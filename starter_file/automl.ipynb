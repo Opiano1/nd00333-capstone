{
 "cells": [
  {
   "cell_type": "markdown",
   "metadata": {},
   "source": [
    "# Automated ML\n",
    "\n",
    "TODO: Import Dependencies. In the cell below, import all the dependencies that you will need to complete the project."
   ]
  },
  {
   "cell_type": "code",
   "execution_count": 1,
   "metadata": {
    "gather": {
     "logged": 1612776993727
    },
    "jupyter": {
     "outputs_hidden": false,
     "source_hidden": false
    },
    "nteract": {
     "transient": {
      "deleting": false
     }
    }
   },
   "outputs": [],
   "source": [
    "from azureml.train.sklearn import SKLearn\n",
    "from azureml.train.hyperdrive.run import PrimaryMetricGoal\n",
    "from azureml.train.hyperdrive.policy import BanditPolicy\n",
    "from azureml.train.hyperdrive.sampling import RandomParameterSampling\n",
    "from azureml.train.hyperdrive.runconfig import HyperDriveConfig\n",
    "from azureml.train.hyperdrive.parameter_expressions import uniform, choice\n",
    "import os\n",
    "import pandas as pd\n",
    "from azureml.data.dataset_factory import TabularDatasetFactory\n",
    "from sklearn.model_selection import train_test_split\n",
    "import logging\n",
    "from azureml.train.automl import AutoMLConfig\n",
    "from azureml.widgets import RunDetails\n",
    "from azureml.core import Workspace, Experiment, Dataset, Model\n",
    "import numpy as np\n",
    "import joblib, pickle"
   ]
  },
  {
   "cell_type": "markdown",
   "metadata": {},
   "source": [
    "## Dataset\n",
    "\n",
    "### Overview\n",
    "TODO: In this markdown cell, give an overview of the dataset you are using. Also mention the task you will be performing.\n",
    "\n",
    "\n",
    "TODO: Get data. In the cell below, write code to access the data you will be using in this project. Remember that the dataset needs to be external."
   ]
  },
  {
   "cell_type": "code",
   "execution_count": 5,
   "metadata": {
    "gather": {
     "logged": 1612777102012
    },
    "jupyter": {
     "outputs_hidden": false,
     "source_hidden": false
    },
    "nteract": {
     "transient": {
      "deleting": false
     }
    }
   },
   "outputs": [
    {
     "name": "stdout",
     "output_type": "stream",
     "text": [
      "Library configuration succeeded\n"
     ]
    }
   ],
   "source": [
    "from azureml.core import Workspace\n",
    "\n",
    "subscription_id = '6971f5ac-8af1-446e-8034-05acea24681f'\n",
    "resource_group = 'aml-quickstarts-138127'\n",
    "workspace_name = 'quick-starts-ws-138127'\n",
    "\n",
    "try:\n",
    "    ws = Workspace(subscription_id = subscription_id, resource_group = resource_group, workspace_name = workspace_name)\n",
    "    ws.write_config()\n",
    "    print('Library configuration succeeded')\n",
    "except:\n",
    "    print('Workspace not found')\n",
    "\n"
   ]
  },
  {
   "cell_type": "code",
   "execution_count": 6,
   "metadata": {
    "collapsed": true,
    "gather": {
     "logged": 1612777112769
    },
    "jupyter": {
     "outputs_hidden": false,
     "source_hidden": false
    },
    "nteract": {
     "transient": {
      "deleting": false
     }
    }
   },
   "outputs": [
    {
     "name": "stdout",
     "output_type": "stream",
     "text": [
      "Workspace name: quick-starts-ws-138127\n",
      "Azure region: southcentralus\n",
      "Subscription id: 6971f5ac-8af1-446e-8034-05acea24681f\n",
      "Resource group: aml-quickstarts-138127\n"
     ]
    }
   ],
   "source": [
    "from azureml.core import Workspace, Dataset\n",
    "\n",
    "subscription_id = '6971f5ac-8af1-446e-8034-05acea24681f'\n",
    "resource_group = 'aml-quickstarts-138127'\n",
    "workspace_name = 'quick-starts-ws-138127'\n",
    "\n",
    "exp = Experiment(workspace=ws, name=\"capstone\")\n",
    "\n",
    "print('Workspace name: ' + ws.name, \n",
    "      'Azure region: ' + ws.location, \n",
    "      'Subscription id: ' + ws.subscription_id, \n",
    "      'Resource group: ' + ws.resource_group, sep = '\\n')\n",
    "\n",
    "run = exp.start_logging()"
   ]
  },
  {
   "cell_type": "code",
   "execution_count": 8,
   "metadata": {
    "collapsed": true,
    "gather": {
     "logged": 1612777133549
    },
    "jupyter": {
     "outputs_hidden": false,
     "source_hidden": false
    },
    "nteract": {
     "transient": {
      "deleting": false
     }
    }
   },
   "outputs": [],
   "source": [
    "# azureml-core of version 1.0.72 or higher is required\n",
    "# azureml-dataprep[pandas] of version 1.1.34 or higher is required\n",
    "from azureml.core import Workspace, Dataset\n",
    "\n",
    "subscription_id = '6971f5ac-8af1-446e-8034-05acea24681f'\n",
    "resource_group = 'aml-quickstarts-138127'\n",
    "workspace_name = 'quick-starts-ws-138127'\n",
    "\n",
    "workspace = Workspace(subscription_id, resource_group, workspace_name)\n",
    "\n",
    "dataset = Dataset.get_by_name(workspace, name='train-data')\n",
    "\n",
    "data=dataset.to_pandas_dataframe()"
   ]
  },
  {
   "cell_type": "code",
   "execution_count": 9,
   "metadata": {
    "collapsed": true,
    "gather": {
     "logged": 1612777150738
    },
    "jupyter": {
     "outputs_hidden": false,
     "source_hidden": false
    },
    "nteract": {
     "transient": {
      "deleting": false
     }
    }
   },
   "outputs": [
    {
     "data": {
      "text/html": [
       "<div>\n",
       "<style scoped>\n",
       "    .dataframe tbody tr th:only-of-type {\n",
       "        vertical-align: middle;\n",
       "    }\n",
       "\n",
       "    .dataframe tbody tr th {\n",
       "        vertical-align: top;\n",
       "    }\n",
       "\n",
       "    .dataframe thead th {\n",
       "        text-align: right;\n",
       "    }\n",
       "</style>\n",
       "<table border=\"1\" class=\"dataframe\">\n",
       "  <thead>\n",
       "    <tr style=\"text-align: right;\">\n",
       "      <th></th>\n",
       "      <th>EmployeeNo</th>\n",
       "      <th>Division</th>\n",
       "      <th>Qualification</th>\n",
       "      <th>Gender</th>\n",
       "      <th>Channel_of_Recruitment</th>\n",
       "      <th>Trainings_Attended</th>\n",
       "      <th>Year_of_birth</th>\n",
       "      <th>Last_performance_score</th>\n",
       "      <th>Year_of_recruitment</th>\n",
       "      <th>Targets_met</th>\n",
       "      <th>Previous_Award</th>\n",
       "      <th>Training_score_average</th>\n",
       "      <th>State_Of_Origin</th>\n",
       "      <th>Foreign_schooled</th>\n",
       "      <th>Marital_Status</th>\n",
       "      <th>Past_Disciplinary_Action</th>\n",
       "      <th>Previous_IntraDepartmental_Movement</th>\n",
       "      <th>No_of_previous_employers</th>\n",
       "      <th>Promoted_or_Not</th>\n",
       "    </tr>\n",
       "  </thead>\n",
       "  <tbody>\n",
       "    <tr>\n",
       "      <th>0</th>\n",
       "      <td>YAK/S/00001</td>\n",
       "      <td>Commercial Sales and Marketing</td>\n",
       "      <td>MSc, MBA and PhD</td>\n",
       "      <td>Female</td>\n",
       "      <td>Direct Internal process</td>\n",
       "      <td>2</td>\n",
       "      <td>1986</td>\n",
       "      <td>12.5</td>\n",
       "      <td>2011</td>\n",
       "      <td>1</td>\n",
       "      <td>0</td>\n",
       "      <td>41</td>\n",
       "      <td>ANAMBRA</td>\n",
       "      <td>False</td>\n",
       "      <td>Married</td>\n",
       "      <td>False</td>\n",
       "      <td>False</td>\n",
       "      <td>0</td>\n",
       "      <td>0</td>\n",
       "    </tr>\n",
       "    <tr>\n",
       "      <th>1</th>\n",
       "      <td>YAK/S/00002</td>\n",
       "      <td>Customer Support and Field Operations</td>\n",
       "      <td>First Degree or HND</td>\n",
       "      <td>Male</td>\n",
       "      <td>Agency and others</td>\n",
       "      <td>2</td>\n",
       "      <td>1991</td>\n",
       "      <td>12.5</td>\n",
       "      <td>2015</td>\n",
       "      <td>0</td>\n",
       "      <td>0</td>\n",
       "      <td>52</td>\n",
       "      <td>ANAMBRA</td>\n",
       "      <td>True</td>\n",
       "      <td>Married</td>\n",
       "      <td>False</td>\n",
       "      <td>False</td>\n",
       "      <td>0</td>\n",
       "      <td>0</td>\n",
       "    </tr>\n",
       "  </tbody>\n",
       "</table>\n",
       "</div>"
      ],
      "text/plain": [
       "    EmployeeNo                               Division        Qualification  \\\n",
       "0  YAK/S/00001         Commercial Sales and Marketing     MSc, MBA and PhD   \n",
       "1  YAK/S/00002  Customer Support and Field Operations  First Degree or HND   \n",
       "\n",
       "   Gender   Channel_of_Recruitment  Trainings_Attended  Year_of_birth  \\\n",
       "0  Female  Direct Internal process                   2           1986   \n",
       "1    Male        Agency and others                   2           1991   \n",
       "\n",
       "   Last_performance_score  Year_of_recruitment  Targets_met  Previous_Award  \\\n",
       "0                    12.5                 2011            1               0   \n",
       "1                    12.5                 2015            0               0   \n",
       "\n",
       "   Training_score_average State_Of_Origin  Foreign_schooled Marital_Status  \\\n",
       "0                      41         ANAMBRA             False        Married   \n",
       "1                      52         ANAMBRA              True        Married   \n",
       "\n",
       "   Past_Disciplinary_Action  Previous_IntraDepartmental_Movement  \\\n",
       "0                     False                                False   \n",
       "1                     False                                False   \n",
       "\n",
       "  No_of_previous_employers  Promoted_or_Not  \n",
       "0                        0                0  \n",
       "1                        0                0  "
      ]
     },
     "execution_count": 9,
     "metadata": {},
     "output_type": "execute_result"
    }
   ],
   "source": [
    "data.head(2)"
   ]
  },
  {
   "cell_type": "code",
   "execution_count": 7,
   "metadata": {
    "collapsed": true,
    "gather": {
     "logged": 1612777120178
    },
    "jupyter": {
     "outputs_hidden": false,
     "source_hidden": false
    },
    "nteract": {
     "transient": {
      "deleting": false
     }
    }
   },
   "outputs": [
    {
     "name": "stdout",
     "output_type": "stream",
     "text": [
      "I found the existing cluster, So I am using it.\n"
     ]
    }
   ],
   "source": [
    "from azureml.core.compute import ComputeTarget, AmlCompute\n",
    "\n",
    "\n",
    "from azureml.core.compute_target import ComputeTargetException\n",
    "\n",
    "cluster_name = \"capstone-ml\"\n",
    "\n",
    "try:\n",
    "    compute_target = ComputeTarget(workspace=ws, name=cluster_name)\n",
    "    print('I found the existing cluster, So I am using it.')\n",
    "except ComputeTargetException:\n",
    "    compute_config = AmlCompute.provisioning_configuration(vm_size='STANDARD_D2_V2',\n",
    "                                                           vm_priority = 'lowpriority',\n",
    "                                                           max_nodes=4)\n",
    "    compute_target = ComputeTarget.create(ws, cluster_name, compute_config)\n",
    "    compute_target.wait_for_completion(show_output=True, min_node_count = 1, timeout_in_minutes = 10)"
   ]
  },
  {
   "cell_type": "code",
   "execution_count": null,
   "metadata": {
    "collapsed": true,
    "jupyter": {
     "outputs_hidden": false,
     "source_hidden": false
    },
    "nteract": {
     "transient": {
      "deleting": false
     }
    }
   },
   "outputs": [],
   "source": []
  },
  {
   "cell_type": "markdown",
   "metadata": {
    "nteract": {
     "transient": {
      "deleting": false
     }
    }
   },
   "source": [
    "Checking for Missing information to properly clean the data"
   ]
  },
  {
   "cell_type": "code",
   "execution_count": 10,
   "metadata": {
    "collapsed": true,
    "gather": {
     "logged": 1612777184314
    },
    "jupyter": {
     "outputs_hidden": false,
     "source_hidden": false
    },
    "nteract": {
     "transient": {
      "deleting": false
     }
    }
   },
   "outputs": [
    {
     "data": {
      "text/plain": [
       "EmployeeNo                                0\n",
       "Division                                  0\n",
       "Qualification                          1679\n",
       "Gender                                    0\n",
       "Channel_of_Recruitment                    0\n",
       "Trainings_Attended                        0\n",
       "Year_of_birth                             0\n",
       "Last_performance_score                    0\n",
       "Year_of_recruitment                       0\n",
       "Targets_met                               0\n",
       "Previous_Award                            0\n",
       "Training_score_average                    0\n",
       "State_Of_Origin                           0\n",
       "Foreign_schooled                          0\n",
       "Marital_Status                            0\n",
       "Past_Disciplinary_Action                  0\n",
       "Previous_IntraDepartmental_Movement       0\n",
       "No_of_previous_employers                  0\n",
       "Promoted_or_Not                           0\n",
       "dtype: int64"
      ]
     },
     "execution_count": 10,
     "metadata": {},
     "output_type": "execute_result"
    }
   ],
   "source": [
    "data.isnull().sum()"
   ]
  },
  {
   "cell_type": "code",
   "execution_count": 11,
   "metadata": {
    "collapsed": true,
    "gather": {
     "logged": 1612777194255
    },
    "jupyter": {
     "outputs_hidden": false,
     "source_hidden": false
    },
    "nteract": {
     "transient": {
      "deleting": false
     }
    }
   },
   "outputs": [
    {
     "name": "stdout",
     "output_type": "stream",
     "text": [
      "<class 'pandas.core.frame.DataFrame'>\n",
      "RangeIndex: 38312 entries, 0 to 38311\n",
      "Data columns (total 19 columns):\n",
      "EmployeeNo                             38312 non-null object\n",
      "Division                               38312 non-null object\n",
      "Qualification                          36633 non-null object\n",
      "Gender                                 38312 non-null object\n",
      "Channel_of_Recruitment                 38312 non-null object\n",
      "Trainings_Attended                     38312 non-null int64\n",
      "Year_of_birth                          38312 non-null int64\n",
      "Last_performance_score                 38312 non-null float64\n",
      "Year_of_recruitment                    38312 non-null int64\n",
      "Targets_met                            38312 non-null int64\n",
      "Previous_Award                         38312 non-null int64\n",
      "Training_score_average                 38312 non-null int64\n",
      "State_Of_Origin                        38312 non-null object\n",
      "Foreign_schooled                       38312 non-null bool\n",
      "Marital_Status                         38312 non-null object\n",
      "Past_Disciplinary_Action               38312 non-null bool\n",
      "Previous_IntraDepartmental_Movement    38312 non-null bool\n",
      "No_of_previous_employers               38312 non-null object\n",
      "Promoted_or_Not                        38312 non-null int64\n",
      "dtypes: bool(3), float64(1), int64(7), object(8)\n",
      "memory usage: 4.8+ MB\n"
     ]
    }
   ],
   "source": [
    "data.info()"
   ]
  },
  {
   "cell_type": "code",
   "execution_count": 12,
   "metadata": {
    "collapsed": true,
    "gather": {
     "logged": 1612777199432
    },
    "jupyter": {
     "outputs_hidden": false,
     "source_hidden": false
    },
    "nteract": {
     "transient": {
      "deleting": false
     }
    }
   },
   "outputs": [
    {
     "data": {
      "text/plain": [
       "Index(['EmployeeNo', 'Division', 'Qualification', 'Gender',\n",
       "       'Channel_of_Recruitment', 'Trainings_Attended', 'Year_of_birth',\n",
       "       'Last_performance_score', 'Year_of_recruitment', 'Targets_met',\n",
       "       'Previous_Award', 'Training_score_average', 'State_Of_Origin',\n",
       "       'Foreign_schooled', 'Marital_Status', 'Past_Disciplinary_Action',\n",
       "       'Previous_IntraDepartmental_Movement', 'No_of_previous_employers',\n",
       "       'Promoted_or_Not'],\n",
       "      dtype='object')"
      ]
     },
     "execution_count": 12,
     "metadata": {},
     "output_type": "execute_result"
    }
   ],
   "source": [
    "data.columns"
   ]
  },
  {
   "cell_type": "code",
   "execution_count": 13,
   "metadata": {
    "collapsed": true,
    "gather": {
     "logged": 1612777354633
    },
    "jupyter": {
     "outputs_hidden": false,
     "source_hidden": false
    },
    "nteract": {
     "transient": {
      "deleting": false
     }
    }
   },
   "outputs": [],
   "source": [
    "def year_count(variable,df):\n",
    "    df[variable] = df[variable].astype(\"int\")\n",
    "    df[variable] = 2019.0 - df[variable]\n",
    "    return df[variable]\n",
    "\n",
    "def geo_zones(state):\n",
    "    North_Central = ['KOGI','BENUE','KWARA','NASSARAWA','NIGER','PLATEAU','FCT']\n",
    "    North_East = ['ADAMAWA','BAUCHI','BORNO','GOMBE','TARABA','YOBE']\n",
    "    North_West = ['JIGAWA','KADUNA','KANO','KATSINA','KEBBI','SOKOTO','ZAMFARA']\n",
    "    South_East = ['ABIA','ANAMBRA','EBONYI','ENUGU','IMO']\n",
    "    South_South = ['AKWA IBOM','BAYELSA','CROSS RIVER','RIVERS','DELTA','EDO']\n",
    "    South_West = ['EKITI','LAGOS','OGUN','ONDO','OSUN','OYO']\n",
    "    \n",
    "    if state in North_Central:\n",
    "        return \"North_Central\"\n",
    "    elif state in North_East :\n",
    "        return \"North_East\"\n",
    "    elif state in North_West:\n",
    "        return \"North_West\"\n",
    "    elif state in South_East:\n",
    "        return \"South_East\"\n",
    "    elif state in South_South:\n",
    "        return \"South_South\"\n",
    "    else:\n",
    "        return \"South_West\"\n",
    "\n",
    "def clean_data(data):\n",
    "    \n",
    "    data['Qualification'].fillna(data['Qualification'].value_counts().index[0],inplace=True)\n",
    "    degree_holder ={\"MSc, MBA and PhD\":\"Yes\",\"Non-University Education\":\"No\",\"First Degree or HND\":\"Yes\"}\n",
    "    data['Qualification'] = data['Qualification'].map(degree_holder)\n",
    "    data['age_recruitment'] = year_count('Year_of_recruitment',data)\n",
    "    data.drop(labels = ['Year_of_recruitment','Year_of_birth'], axis = 1, inplace = True)\n",
    "    data['State_Of_Origin'] = data['State_Of_Origin'].apply(lambda x: geo_zones(x))\n",
    "    data.drop(['EmployeeNo'],axis=1,inplace=True)\n",
    "    column = ['Gender','Division','State_Of_Origin','Qualification','Channel_of_Recruitment','Last_performance_score','Foreign_schooled','Marital_Status','Past_Disciplinary_Action','Previous_IntraDepartmental_Movement','No_of_previous_employers']\n",
    "    data=pd.get_dummies(data, columns=column,drop_first=True)\n",
    "\n",
    "    return data\n",
    "   \n",
    "\n",
    "data = clean_data(data)"
   ]
  },
  {
   "cell_type": "code",
   "execution_count": 14,
   "metadata": {
    "collapsed": true,
    "gather": {
     "logged": 1612777361021
    },
    "jupyter": {
     "outputs_hidden": false,
     "source_hidden": false
    },
    "nteract": {
     "transient": {
      "deleting": false
     }
    }
   },
   "outputs": [
    {
     "data": {
      "text/html": [
       "<div>\n",
       "<style scoped>\n",
       "    .dataframe tbody tr th:only-of-type {\n",
       "        vertical-align: middle;\n",
       "    }\n",
       "\n",
       "    .dataframe tbody tr th {\n",
       "        vertical-align: top;\n",
       "    }\n",
       "\n",
       "    .dataframe thead th {\n",
       "        text-align: right;\n",
       "    }\n",
       "</style>\n",
       "<table border=\"1\" class=\"dataframe\">\n",
       "  <thead>\n",
       "    <tr style=\"text-align: right;\">\n",
       "      <th></th>\n",
       "      <th>Trainings_Attended</th>\n",
       "      <th>Targets_met</th>\n",
       "      <th>Previous_Award</th>\n",
       "      <th>Training_score_average</th>\n",
       "      <th>Promoted_or_Not</th>\n",
       "      <th>age_recruitment</th>\n",
       "      <th>Gender_Male</th>\n",
       "      <th>Division_Commercial Sales and Marketing</th>\n",
       "      <th>Division_Customer Support and Field Operations</th>\n",
       "      <th>Division_Information Technology and Solution Support</th>\n",
       "      <th>...</th>\n",
       "      <th>Marital_Status_Not_Sure</th>\n",
       "      <th>Marital_Status_Single</th>\n",
       "      <th>Past_Disciplinary_Action_True</th>\n",
       "      <th>Previous_IntraDepartmental_Movement_True</th>\n",
       "      <th>No_of_previous_employers_1</th>\n",
       "      <th>No_of_previous_employers_2</th>\n",
       "      <th>No_of_previous_employers_3</th>\n",
       "      <th>No_of_previous_employers_4</th>\n",
       "      <th>No_of_previous_employers_5</th>\n",
       "      <th>No_of_previous_employers_More than 5</th>\n",
       "    </tr>\n",
       "  </thead>\n",
       "  <tbody>\n",
       "    <tr>\n",
       "      <th>0</th>\n",
       "      <td>2</td>\n",
       "      <td>1</td>\n",
       "      <td>0</td>\n",
       "      <td>41</td>\n",
       "      <td>0</td>\n",
       "      <td>8.0</td>\n",
       "      <td>0</td>\n",
       "      <td>1</td>\n",
       "      <td>0</td>\n",
       "      <td>0</td>\n",
       "      <td>...</td>\n",
       "      <td>0</td>\n",
       "      <td>0</td>\n",
       "      <td>0</td>\n",
       "      <td>0</td>\n",
       "      <td>0</td>\n",
       "      <td>0</td>\n",
       "      <td>0</td>\n",
       "      <td>0</td>\n",
       "      <td>0</td>\n",
       "      <td>0</td>\n",
       "    </tr>\n",
       "    <tr>\n",
       "      <th>1</th>\n",
       "      <td>2</td>\n",
       "      <td>0</td>\n",
       "      <td>0</td>\n",
       "      <td>52</td>\n",
       "      <td>0</td>\n",
       "      <td>4.0</td>\n",
       "      <td>1</td>\n",
       "      <td>0</td>\n",
       "      <td>1</td>\n",
       "      <td>0</td>\n",
       "      <td>...</td>\n",
       "      <td>0</td>\n",
       "      <td>0</td>\n",
       "      <td>0</td>\n",
       "      <td>0</td>\n",
       "      <td>0</td>\n",
       "      <td>0</td>\n",
       "      <td>0</td>\n",
       "      <td>0</td>\n",
       "      <td>0</td>\n",
       "      <td>0</td>\n",
       "    </tr>\n",
       "    <tr>\n",
       "      <th>2</th>\n",
       "      <td>2</td>\n",
       "      <td>0</td>\n",
       "      <td>0</td>\n",
       "      <td>42</td>\n",
       "      <td>0</td>\n",
       "      <td>7.0</td>\n",
       "      <td>1</td>\n",
       "      <td>1</td>\n",
       "      <td>0</td>\n",
       "      <td>0</td>\n",
       "      <td>...</td>\n",
       "      <td>0</td>\n",
       "      <td>0</td>\n",
       "      <td>0</td>\n",
       "      <td>0</td>\n",
       "      <td>0</td>\n",
       "      <td>0</td>\n",
       "      <td>0</td>\n",
       "      <td>0</td>\n",
       "      <td>0</td>\n",
       "      <td>0</td>\n",
       "    </tr>\n",
       "    <tr>\n",
       "      <th>3</th>\n",
       "      <td>3</td>\n",
       "      <td>0</td>\n",
       "      <td>0</td>\n",
       "      <td>42</td>\n",
       "      <td>0</td>\n",
       "      <td>10.0</td>\n",
       "      <td>1</td>\n",
       "      <td>1</td>\n",
       "      <td>0</td>\n",
       "      <td>0</td>\n",
       "      <td>...</td>\n",
       "      <td>0</td>\n",
       "      <td>1</td>\n",
       "      <td>0</td>\n",
       "      <td>0</td>\n",
       "      <td>1</td>\n",
       "      <td>0</td>\n",
       "      <td>0</td>\n",
       "      <td>0</td>\n",
       "      <td>0</td>\n",
       "      <td>0</td>\n",
       "    </tr>\n",
       "    <tr>\n",
       "      <th>4</th>\n",
       "      <td>3</td>\n",
       "      <td>0</td>\n",
       "      <td>0</td>\n",
       "      <td>77</td>\n",
       "      <td>0</td>\n",
       "      <td>7.0</td>\n",
       "      <td>1</td>\n",
       "      <td>0</td>\n",
       "      <td>0</td>\n",
       "      <td>0</td>\n",
       "      <td>...</td>\n",
       "      <td>0</td>\n",
       "      <td>0</td>\n",
       "      <td>0</td>\n",
       "      <td>0</td>\n",
       "      <td>1</td>\n",
       "      <td>0</td>\n",
       "      <td>0</td>\n",
       "      <td>0</td>\n",
       "      <td>0</td>\n",
       "      <td>0</td>\n",
       "    </tr>\n",
       "  </tbody>\n",
       "</table>\n",
       "<p>5 rows × 39 columns</p>\n",
       "</div>"
      ],
      "text/plain": [
       "   Trainings_Attended  Targets_met  Previous_Award  Training_score_average  \\\n",
       "0                   2            1               0                      41   \n",
       "1                   2            0               0                      52   \n",
       "2                   2            0               0                      42   \n",
       "3                   3            0               0                      42   \n",
       "4                   3            0               0                      77   \n",
       "\n",
       "   Promoted_or_Not  age_recruitment  Gender_Male  \\\n",
       "0                0              8.0            0   \n",
       "1                0              4.0            1   \n",
       "2                0              7.0            1   \n",
       "3                0             10.0            1   \n",
       "4                0              7.0            1   \n",
       "\n",
       "   Division_Commercial Sales and Marketing  \\\n",
       "0                                        1   \n",
       "1                                        0   \n",
       "2                                        1   \n",
       "3                                        1   \n",
       "4                                        0   \n",
       "\n",
       "   Division_Customer Support and Field Operations  \\\n",
       "0                                               0   \n",
       "1                                               1   \n",
       "2                                               0   \n",
       "3                                               0   \n",
       "4                                               0   \n",
       "\n",
       "   Division_Information Technology and Solution Support  ...  \\\n",
       "0                                                  0     ...   \n",
       "1                                                  0     ...   \n",
       "2                                                  0     ...   \n",
       "3                                                  0     ...   \n",
       "4                                                  0     ...   \n",
       "\n",
       "   Marital_Status_Not_Sure  Marital_Status_Single  \\\n",
       "0                        0                      0   \n",
       "1                        0                      0   \n",
       "2                        0                      0   \n",
       "3                        0                      1   \n",
       "4                        0                      0   \n",
       "\n",
       "   Past_Disciplinary_Action_True  Previous_IntraDepartmental_Movement_True  \\\n",
       "0                              0                                         0   \n",
       "1                              0                                         0   \n",
       "2                              0                                         0   \n",
       "3                              0                                         0   \n",
       "4                              0                                         0   \n",
       "\n",
       "   No_of_previous_employers_1  No_of_previous_employers_2  \\\n",
       "0                           0                           0   \n",
       "1                           0                           0   \n",
       "2                           0                           0   \n",
       "3                           1                           0   \n",
       "4                           1                           0   \n",
       "\n",
       "   No_of_previous_employers_3  No_of_previous_employers_4  \\\n",
       "0                           0                           0   \n",
       "1                           0                           0   \n",
       "2                           0                           0   \n",
       "3                           0                           0   \n",
       "4                           0                           0   \n",
       "\n",
       "   No_of_previous_employers_5  No_of_previous_employers_More than 5  \n",
       "0                           0                                     0  \n",
       "1                           0                                     0  \n",
       "2                           0                                     0  \n",
       "3                           0                                     0  \n",
       "4                           0                                     0  \n",
       "\n",
       "[5 rows x 39 columns]"
      ]
     },
     "execution_count": 14,
     "metadata": {},
     "output_type": "execute_result"
    }
   ],
   "source": [
    "data.head()"
   ]
  },
  {
   "cell_type": "code",
   "execution_count": 15,
   "metadata": {
    "collapsed": true,
    "gather": {
     "logged": 1612777413813
    },
    "jupyter": {
     "outputs_hidden": false,
     "source_hidden": false
    },
    "nteract": {
     "transient": {
      "deleting": false
     }
    }
   },
   "outputs": [],
   "source": [
    "x = data.drop(['Promoted_or_Not'],axis=1)\n",
    "y = data['Promoted_or_Not']\n",
    "x_train, x_test, y_train, y_test = train_test_split(x, y)"
   ]
  },
  {
   "cell_type": "code",
   "execution_count": 16,
   "metadata": {
    "collapsed": true,
    "gather": {
     "logged": 1612777418278
    },
    "jupyter": {
     "outputs_hidden": false,
     "source_hidden": false
    },
    "nteract": {
     "transient": {
      "deleting": false
     }
    }
   },
   "outputs": [],
   "source": [
    "df_train = pd.concat([x_train, y_train], axis=1)"
   ]
  },
  {
   "cell_type": "code",
   "execution_count": 17,
   "metadata": {
    "collapsed": true,
    "gather": {
     "logged": 1612777428017
    },
    "jupyter": {
     "outputs_hidden": false,
     "source_hidden": false
    },
    "nteract": {
     "transient": {
      "deleting": false
     }
    }
   },
   "outputs": [
    {
     "data": {
      "text/html": [
       "<div>\n",
       "<style scoped>\n",
       "    .dataframe tbody tr th:only-of-type {\n",
       "        vertical-align: middle;\n",
       "    }\n",
       "\n",
       "    .dataframe tbody tr th {\n",
       "        vertical-align: top;\n",
       "    }\n",
       "\n",
       "    .dataframe thead th {\n",
       "        text-align: right;\n",
       "    }\n",
       "</style>\n",
       "<table border=\"1\" class=\"dataframe\">\n",
       "  <thead>\n",
       "    <tr style=\"text-align: right;\">\n",
       "      <th></th>\n",
       "      <th>Trainings_Attended</th>\n",
       "      <th>Targets_met</th>\n",
       "      <th>Previous_Award</th>\n",
       "      <th>Training_score_average</th>\n",
       "      <th>age_recruitment</th>\n",
       "      <th>Gender_Male</th>\n",
       "      <th>Division_Commercial Sales and Marketing</th>\n",
       "      <th>Division_Customer Support and Field Operations</th>\n",
       "      <th>Division_Information Technology and Solution Support</th>\n",
       "      <th>Division_Information and Strategy</th>\n",
       "      <th>...</th>\n",
       "      <th>Marital_Status_Single</th>\n",
       "      <th>Past_Disciplinary_Action_True</th>\n",
       "      <th>Previous_IntraDepartmental_Movement_True</th>\n",
       "      <th>No_of_previous_employers_1</th>\n",
       "      <th>No_of_previous_employers_2</th>\n",
       "      <th>No_of_previous_employers_3</th>\n",
       "      <th>No_of_previous_employers_4</th>\n",
       "      <th>No_of_previous_employers_5</th>\n",
       "      <th>No_of_previous_employers_More than 5</th>\n",
       "      <th>Promoted_or_Not</th>\n",
       "    </tr>\n",
       "  </thead>\n",
       "  <tbody>\n",
       "    <tr>\n",
       "      <th>15268</th>\n",
       "      <td>2</td>\n",
       "      <td>0</td>\n",
       "      <td>0</td>\n",
       "      <td>49</td>\n",
       "      <td>7.0</td>\n",
       "      <td>1</td>\n",
       "      <td>0</td>\n",
       "      <td>0</td>\n",
       "      <td>0</td>\n",
       "      <td>0</td>\n",
       "      <td>...</td>\n",
       "      <td>0</td>\n",
       "      <td>0</td>\n",
       "      <td>0</td>\n",
       "      <td>0</td>\n",
       "      <td>0</td>\n",
       "      <td>0</td>\n",
       "      <td>0</td>\n",
       "      <td>0</td>\n",
       "      <td>0</td>\n",
       "      <td>0</td>\n",
       "    </tr>\n",
       "    <tr>\n",
       "      <th>11115</th>\n",
       "      <td>2</td>\n",
       "      <td>0</td>\n",
       "      <td>0</td>\n",
       "      <td>57</td>\n",
       "      <td>9.0</td>\n",
       "      <td>1</td>\n",
       "      <td>0</td>\n",
       "      <td>0</td>\n",
       "      <td>0</td>\n",
       "      <td>0</td>\n",
       "      <td>...</td>\n",
       "      <td>0</td>\n",
       "      <td>0</td>\n",
       "      <td>1</td>\n",
       "      <td>1</td>\n",
       "      <td>0</td>\n",
       "      <td>0</td>\n",
       "      <td>0</td>\n",
       "      <td>0</td>\n",
       "      <td>0</td>\n",
       "      <td>0</td>\n",
       "    </tr>\n",
       "    <tr>\n",
       "      <th>4826</th>\n",
       "      <td>3</td>\n",
       "      <td>0</td>\n",
       "      <td>0</td>\n",
       "      <td>70</td>\n",
       "      <td>6.0</td>\n",
       "      <td>0</td>\n",
       "      <td>0</td>\n",
       "      <td>0</td>\n",
       "      <td>1</td>\n",
       "      <td>0</td>\n",
       "      <td>...</td>\n",
       "      <td>0</td>\n",
       "      <td>0</td>\n",
       "      <td>0</td>\n",
       "      <td>1</td>\n",
       "      <td>0</td>\n",
       "      <td>0</td>\n",
       "      <td>0</td>\n",
       "      <td>0</td>\n",
       "      <td>0</td>\n",
       "      <td>0</td>\n",
       "    </tr>\n",
       "    <tr>\n",
       "      <th>37588</th>\n",
       "      <td>3</td>\n",
       "      <td>1</td>\n",
       "      <td>0</td>\n",
       "      <td>49</td>\n",
       "      <td>7.0</td>\n",
       "      <td>0</td>\n",
       "      <td>0</td>\n",
       "      <td>1</td>\n",
       "      <td>0</td>\n",
       "      <td>0</td>\n",
       "      <td>...</td>\n",
       "      <td>0</td>\n",
       "      <td>0</td>\n",
       "      <td>0</td>\n",
       "      <td>0</td>\n",
       "      <td>0</td>\n",
       "      <td>0</td>\n",
       "      <td>0</td>\n",
       "      <td>0</td>\n",
       "      <td>0</td>\n",
       "      <td>0</td>\n",
       "    </tr>\n",
       "    <tr>\n",
       "      <th>37186</th>\n",
       "      <td>2</td>\n",
       "      <td>0</td>\n",
       "      <td>0</td>\n",
       "      <td>48</td>\n",
       "      <td>5.0</td>\n",
       "      <td>0</td>\n",
       "      <td>0</td>\n",
       "      <td>1</td>\n",
       "      <td>0</td>\n",
       "      <td>0</td>\n",
       "      <td>...</td>\n",
       "      <td>1</td>\n",
       "      <td>0</td>\n",
       "      <td>0</td>\n",
       "      <td>0</td>\n",
       "      <td>0</td>\n",
       "      <td>0</td>\n",
       "      <td>0</td>\n",
       "      <td>0</td>\n",
       "      <td>0</td>\n",
       "      <td>0</td>\n",
       "    </tr>\n",
       "  </tbody>\n",
       "</table>\n",
       "<p>5 rows × 39 columns</p>\n",
       "</div>"
      ],
      "text/plain": [
       "       Trainings_Attended  Targets_met  Previous_Award  \\\n",
       "15268                   2            0               0   \n",
       "11115                   2            0               0   \n",
       "4826                    3            0               0   \n",
       "37588                   3            1               0   \n",
       "37186                   2            0               0   \n",
       "\n",
       "       Training_score_average  age_recruitment  Gender_Male  \\\n",
       "15268                      49              7.0            1   \n",
       "11115                      57              9.0            1   \n",
       "4826                       70              6.0            0   \n",
       "37588                      49              7.0            0   \n",
       "37186                      48              5.0            0   \n",
       "\n",
       "       Division_Commercial Sales and Marketing  \\\n",
       "15268                                        0   \n",
       "11115                                        0   \n",
       "4826                                         0   \n",
       "37588                                        0   \n",
       "37186                                        0   \n",
       "\n",
       "       Division_Customer Support and Field Operations  \\\n",
       "15268                                               0   \n",
       "11115                                               0   \n",
       "4826                                                0   \n",
       "37588                                               1   \n",
       "37186                                               1   \n",
       "\n",
       "       Division_Information Technology and Solution Support  \\\n",
       "15268                                                  0      \n",
       "11115                                                  0      \n",
       "4826                                                   1      \n",
       "37588                                                  0      \n",
       "37186                                                  0      \n",
       "\n",
       "       Division_Information and Strategy  ...  Marital_Status_Single  \\\n",
       "15268                                  0  ...                      0   \n",
       "11115                                  0  ...                      0   \n",
       "4826                                   0  ...                      0   \n",
       "37588                                  0  ...                      0   \n",
       "37186                                  0  ...                      1   \n",
       "\n",
       "       Past_Disciplinary_Action_True  \\\n",
       "15268                              0   \n",
       "11115                              0   \n",
       "4826                               0   \n",
       "37588                              0   \n",
       "37186                              0   \n",
       "\n",
       "       Previous_IntraDepartmental_Movement_True  No_of_previous_employers_1  \\\n",
       "15268                                         0                           0   \n",
       "11115                                         1                           1   \n",
       "4826                                          0                           1   \n",
       "37588                                         0                           0   \n",
       "37186                                         0                           0   \n",
       "\n",
       "       No_of_previous_employers_2  No_of_previous_employers_3  \\\n",
       "15268                           0                           0   \n",
       "11115                           0                           0   \n",
       "4826                            0                           0   \n",
       "37588                           0                           0   \n",
       "37186                           0                           0   \n",
       "\n",
       "       No_of_previous_employers_4  No_of_previous_employers_5  \\\n",
       "15268                           0                           0   \n",
       "11115                           0                           0   \n",
       "4826                            0                           0   \n",
       "37588                           0                           0   \n",
       "37186                           0                           0   \n",
       "\n",
       "       No_of_previous_employers_More than 5  Promoted_or_Not  \n",
       "15268                                     0                0  \n",
       "11115                                     0                0  \n",
       "4826                                      0                0  \n",
       "37588                                     0                0  \n",
       "37186                                     0                0  \n",
       "\n",
       "[5 rows x 39 columns]"
      ]
     },
     "execution_count": 17,
     "metadata": {},
     "output_type": "execute_result"
    }
   ],
   "source": [
    "\n",
    "df_train.head()"
   ]
  },
  {
   "cell_type": "code",
   "execution_count": 18,
   "metadata": {
    "collapsed": true,
    "gather": {
     "logged": 1612777433074
    },
    "jupyter": {
     "outputs_hidden": false,
     "source_hidden": false
    },
    "nteract": {
     "transient": {
      "deleting": false
     }
    }
   },
   "outputs": [
    {
     "data": {
      "text/plain": [
       "0    0\n",
       "1    0\n",
       "2    0\n",
       "3    0\n",
       "4    0\n",
       "Name: Promoted_or_Not, dtype: int64"
      ]
     },
     "execution_count": 18,
     "metadata": {},
     "output_type": "execute_result"
    }
   ],
   "source": [
    "y.head()"
   ]
  },
  {
   "cell_type": "code",
   "execution_count": null,
   "metadata": {
    "collapsed": true,
    "jupyter": {
     "outputs_hidden": false,
     "source_hidden": false
    },
    "nteract": {
     "transient": {
      "deleting": false
     }
    }
   },
   "outputs": [],
   "source": []
  },
  {
   "cell_type": "markdown",
   "metadata": {},
   "source": [
    "## AutoML Configuration\n",
    "\n",
    "TODO: Explain why you chose the automl settings and cofiguration you used below."
   ]
  },
  {
   "cell_type": "code",
   "execution_count": 19,
   "metadata": {
    "collapsed": true,
    "gather": {
     "logged": 1612777440684
    },
    "jupyter": {
     "outputs_hidden": false,
     "source_hidden": false
    },
    "nteract": {
     "transient": {
      "deleting": false
     }
    }
   },
   "outputs": [],
   "source": [
    "# TODO: Put your automl settings here\n",
    "automl_settings = {\n",
    "    \"featurization\": \"auto\",\n",
    "    \"n_cross_validations\": 4,\n",
    "    \"experiment_timeout_minutes\": 30,\n",
    "    \"enable_early_stopping\": True,\n",
    "    \"verbosity\": logging.INFO,\n",
    "}"
   ]
  },
  {
   "cell_type": "code",
   "execution_count": 22,
   "metadata": {
    "collapsed": true,
    "gather": {
     "logged": 1612777656488
    },
    "jupyter": {
     "outputs_hidden": false,
     "source_hidden": false
    },
    "nteract": {
     "transient": {
      "deleting": false
     }
    }
   },
   "outputs": [],
   "source": [
    "# TODO: Put your automl config here\n",
    "automl_config = AutoMLConfig(\n",
    "    experiment_timeout_minutes=30,\n",
    "    task=\"classification\",\n",
    "    primary_metric=\"accuracy\",\n",
    "    training_data=df_train,\n",
    "    label_column_name=\"Promoted_or_Not\",\n",
    "    n_cross_validations=5)\n"
   ]
  },
  {
   "cell_type": "code",
   "execution_count": null,
   "metadata": {
    "collapsed": true,
    "jupyter": {
     "outputs_hidden": false,
     "source_hidden": false
    },
    "nteract": {
     "transient": {
      "deleting": false
     }
    }
   },
   "outputs": [],
   "source": []
  },
  {
   "cell_type": "code",
   "execution_count": 23,
   "metadata": {
    "gather": {
     "logged": 1612779785539
    },
    "jupyter": {
     "outputs_hidden": false,
     "source_hidden": false
    },
    "nteract": {
     "transient": {
      "deleting": false
     }
    }
   },
   "outputs": [
    {
     "name": "stdout",
     "output_type": "stream",
     "text": [
      "No run_configuration provided, running on local with default configuration\n",
      "Running on local machine\n",
      "Parent Run ID: AutoML_91b7d0bd-1b7d-457b-8320-bf768ab34270\n",
      "\n",
      "Current status: DatasetEvaluation. Gathering dataset statistics.\n",
      "Current status: FeaturesGeneration. Generating features for the dataset.\n",
      "Current status: DatasetFeaturization. Beginning to fit featurizers and featurize the dataset.\n",
      "Current status: DatasetFeaturizationCompleted. Completed fit featurizers and featurizing the dataset.\n",
      "Current status: DatasetBalancing. Performing class balancing sweeping\n",
      "Current status: DatasetCrossValidationSplit. Generating individually featurized CV splits.\n",
      "\n",
      "****************************************************************************************************\n",
      "DATA GUARDRAILS: \n",
      "\n",
      "TYPE:         Class balancing detection\n",
      "STATUS:       ALERTED\n",
      "DESCRIPTION:  To decrease model bias, please cancel the current run and fix balancing problem.\n",
      "              Learn more about imbalanced data: https://aka.ms/AutomatedMLImbalancedData\n",
      "DETAILS:      Imbalanced data can lead to a falsely perceived positive effect of a model's accuracy because the input data has bias towards one class.\n",
      "+---------------------------------+---------------------------------+--------------------------------------+\n",
      "|Size of the smallest class       |Name/Label of the smallest class |Number of samples in the training data|\n",
      "+=================================+=================================+======================================+\n",
      "|2448                             |1                                |28734                                 |\n",
      "+---------------------------------+---------------------------------+--------------------------------------+\n",
      "\n",
      "****************************************************************************************************\n",
      "\n",
      "TYPE:         Missing feature values imputation\n",
      "STATUS:       PASSED\n",
      "DESCRIPTION:  No feature missing values were detected in the training data.\n",
      "              Learn more about missing value imputation: https://aka.ms/AutomatedMLFeaturization\n",
      "\n",
      "****************************************************************************************************\n",
      "\n",
      "TYPE:         High cardinality feature detection\n",
      "STATUS:       PASSED\n",
      "DESCRIPTION:  Your inputs were analyzed, and no high cardinality features were detected.\n",
      "              Learn more about high cardinality feature handling: https://aka.ms/AutomatedMLFeaturization\n",
      "\n",
      "****************************************************************************************************\n",
      "Current status: ModelSelection. Beginning model selection.\n",
      "\n",
      "****************************************************************************************************\n",
      "ITERATION: The iteration being evaluated.\n",
      "PIPELINE: A summary description of the pipeline being evaluated.\n",
      "DURATION: Time taken for the current iteration.\n",
      "METRIC: The result of computing score on the fitted pipeline.\n",
      "BEST: The best observed score thus far.\n",
      "****************************************************************************************************\n",
      "\n",
      " ITERATION   PIPELINE                                       DURATION      METRIC      BEST\n",
      "         0   MaxAbsScaler LightGBM                          0:00:29       0.9409    0.9409\n",
      "         1   MaxAbsScaler XGBoostClassifier                 0:00:31       0.9388    0.9409\n",
      "         2   MaxAbsScaler RandomForest                      0:00:26       0.9162    0.9409\n",
      "         3   MaxAbsScaler RandomForest                      0:00:26       0.9148    0.9409\n",
      "         4   MaxAbsScaler RandomForest                      0:00:33       0.6901    0.9409\n",
      "         5   MaxAbsScaler RandomForest                      0:00:25       0.6975    0.9409\n",
      "         6   StandardScalerWrapper LightGBM                 0:00:33       0.9273    0.9409\n",
      "         7   MaxAbsScaler RandomForest                      0:01:06       0.9148    0.9409\n",
      "         8   SparseNormalizer LightGBM                      0:00:26       0.9333    0.9409\n",
      "         9   SparseNormalizer XGBoostClassifier             0:00:45       0.9410    0.9410\n",
      "        10   StandardScalerWrapper LightGBM                 0:00:33       0.9148    0.9410\n",
      "        11   SparseNormalizer XGBoostClassifier             0:00:37       0.9384    0.9410\n",
      "        12   SparseNormalizer XGBoostClassifier             0:00:39       0.9368    0.9410\n",
      "        13   SparseNormalizer XGBoostClassifier             0:00:37       0.9407    0.9410\n",
      "        14   SparseNormalizer LightGBM                      0:00:34       0.9295    0.9410\n",
      "        15   StandardScalerWrapper LogisticRegression       0:00:32       0.9230    0.9410\n",
      "        16   StandardScalerWrapper LightGBM                 0:00:29       0.9148    0.9410\n",
      "        17   SparseNormalizer LightGBM                      0:00:26       0.9148    0.9410\n",
      "        18   SparseNormalizer XGBoostClassifier             0:00:27       0.9350    0.9410\n",
      "        19   SparseNormalizer LightGBM                      0:00:30       0.9235    0.9410\n",
      "        20   SparseNormalizer XGBoostClassifier             0:00:33       0.9319    0.9410\n",
      "        21   StandardScalerWrapper ExtremeRandomTrees       0:00:51       0.9148    0.9410\n",
      "        22   SparseNormalizer GradientBoosting              0:00:28       0.9148    0.9410\n",
      "        23   MaxAbsScaler LightGBM                          0:00:32       0.9148    0.9410\n",
      "        24   SparseNormalizer XGBoostClassifier             0:01:10       0.9356    0.9410\n",
      "        25   SparseNormalizer XGBoostClassifier             0:00:26       0.9148    0.9410\n",
      "        26   StandardScalerWrapper XGBoostClassifier        0:00:50       0.9341    0.9410\n",
      "        27   MaxAbsScaler LightGBM                          0:00:40       0.9216    0.9410\n",
      "        28   StandardScalerWrapper XGBoostClassifier        0:00:49       0.9403    0.9410\n",
      "        29   SparseNormalizer XGBoostClassifier             0:02:15       0.9361    0.9410\n",
      "        30   SparseNormalizer XGBoostClassifier             0:00:28       0.9148    0.9410\n",
      "        31   StandardScalerWrapper XGBoostClassifier        0:00:39       0.9393    0.9410\n",
      "        32   StandardScalerWrapper XGBoostClassifier        0:00:28       0.9351    0.9410\n",
      "        33   SparseNormalizer XGBoostClassifier             0:00:40       0.9405    0.9410\n",
      "        34   StandardScalerWrapper XGBoostClassifier        0:01:29       0.9350    0.9410\n",
      "        35   StandardScalerWrapper XGBoostClassifier        0:00:27       0.9148    0.9410\n",
      "        36   SparseNormalizer XGBoostClassifier             0:00:32       0.9386    0.9410\n",
      "        37   StandardScalerWrapper LightGBM                 0:00:44       0.9389    0.9410\n",
      "        38   StandardScalerWrapper XGBoostClassifier        0:00:36       0.9349    0.9410\n",
      "        39   StandardScalerWrapper XGBoostClassifier        0:00:58       0.9227    0.9410\n",
      "        40   SparseNormalizer XGBoostClassifier             0:01:43       0.9316    0.9410\n",
      "        41   VotingEnsemble                                 0:01:05       0.9420    0.9420\n",
      "        42   StackEnsemble                                  0:01:26       0.9417    0.9420\n",
      "Stopping criteria reached at iteration 43. Ending experiment.\n",
      "****************************************************************************************************\n",
      "Current status: BestRunExplainModel. Best run model explanations started\n",
      "Current status: ModelExplanationDataSetSetup. Model explanations data setup completed\n",
      "Current status: PickSurrogateModel. Choosing LightGBM as the surrogate model for explanations\n",
      "Current status: EngineeredFeatureExplanations. Computation of engineered features started\n",
      "Current status: EngineeredFeatureExplanations. Computation of engineered features completed\n",
      "Current status: RawFeaturesExplanations. Computation of raw features started\n",
      "Current status: RawFeaturesExplanations. Computation of raw features completed\n",
      "Current status: BestRunExplainModel. Best run model explanations completed\n",
      "****************************************************************************************************\n"
     ]
    }
   ],
   "source": [
    "# TODO: Submit your experiment\n",
    "remote_run = exp.submit(automl_config,show_output=True)"
   ]
  },
  {
   "cell_type": "markdown",
   "metadata": {},
   "source": [
    "## Run Details\n",
    "\n",
    "OPTIONAL: Write about the different models trained and their performance. Why do you think some models did better than others?\n",
    "\n",
    "TODO: In the cell below, use the `RunDetails` widget to show the different experiments."
   ]
  },
  {
   "cell_type": "code",
   "execution_count": 24,
   "metadata": {
    "gather": {
     "logged": 1612779785932
    },
    "jupyter": {
     "outputs_hidden": false,
     "source_hidden": false
    },
    "nteract": {
     "transient": {
      "deleting": false
     }
    }
   },
   "outputs": [
    {
     "data": {
      "application/vnd.jupyter.widget-view+json": {
       "model_id": "4120ba85011a4084bd0785d9dc561240",
       "version_major": 2,
       "version_minor": 0
      },
      "text/plain": [
       "_AutoMLWidget(widget_settings={'childWidgetDisplay': 'popup', 'send_telemetry': False, 'log_level': 'INFO', 's…"
      ]
     },
     "metadata": {},
     "output_type": "display_data"
    },
    {
     "data": {
      "application/aml.mini.widget.v1": "{\"status\": \"Completed\", \"workbench_run_details_uri\": \"https://ml.azure.com/experiments/capstone/runs/AutoML_91b7d0bd-1b7d-457b-8320-bf768ab34270?wsid=/subscriptions/6971f5ac-8af1-446e-8034-05acea24681f/resourcegroups/aml-quickstarts-138127/workspaces/quick-starts-ws-138127\", \"run_id\": \"AutoML_91b7d0bd-1b7d-457b-8320-bf768ab34270\", \"run_properties\": {\"run_id\": \"AutoML_91b7d0bd-1b7d-457b-8320-bf768ab34270\", \"created_utc\": \"2021-02-08T09:47:40.791723Z\", \"properties\": {\"num_iterations\": \"1000\", \"training_type\": \"TrainFull\", \"acquisition_function\": \"EI\", \"primary_metric\": \"accuracy\", \"train_split\": \"0\", \"acquisition_parameter\": \"0\", \"num_cross_validation\": \"5\", \"target\": \"local\", \"AMLSettingsJsonString\": \"{\\\"path\\\":null,\\\"name\\\":\\\"capstone\\\",\\\"subscription_id\\\":\\\"6971f5ac-8af1-446e-8034-05acea24681f\\\",\\\"resource_group\\\":\\\"aml-quickstarts-138127\\\",\\\"workspace_name\\\":\\\"quick-starts-ws-138127\\\",\\\"region\\\":\\\"southcentralus\\\",\\\"compute_target\\\":\\\"local\\\",\\\"spark_service\\\":null,\\\"azure_service\\\":\\\"Microsoft.AzureNotebookVM\\\",\\\"many_models\\\":false,\\\"pipeline_fetch_max_batch_size\\\":1,\\\"iterations\\\":1000,\\\"primary_metric\\\":\\\"accuracy\\\",\\\"task_type\\\":\\\"classification\\\",\\\"data_script\\\":null,\\\"validation_size\\\":0.0,\\\"n_cross_validations\\\":5,\\\"y_min\\\":null,\\\"y_max\\\":null,\\\"num_classes\\\":2,\\\"featurization\\\":\\\"auto\\\",\\\"_ignore_package_version_incompatibilities\\\":false,\\\"is_timeseries\\\":false,\\\"max_cores_per_iteration\\\":1,\\\"max_concurrent_iterations\\\":1,\\\"iteration_timeout_minutes\\\":null,\\\"mem_in_mb\\\":null,\\\"enforce_time_on_windows\\\":false,\\\"experiment_timeout_minutes\\\":30,\\\"experiment_exit_score\\\":null,\\\"whitelist_models\\\":null,\\\"blacklist_algos\\\":[\\\"TensorFlowLinearClassifier\\\",\\\"TensorFlowDNN\\\"],\\\"supported_models\\\":[\\\"RandomForest\\\",\\\"LightGBM\\\",\\\"BernoulliNaiveBayes\\\",\\\"ExtremeRandomTrees\\\",\\\"GradientBoosting\\\",\\\"DecisionTree\\\",\\\"TensorFlowDNN\\\",\\\"TensorFlowLinearClassifier\\\",\\\"LinearSVM\\\",\\\"MultinomialNaiveBayes\\\",\\\"AveragedPerceptronClassifier\\\",\\\"KNN\\\",\\\"SVM\\\",\\\"LogisticRegression\\\",\\\"SGD\\\",\\\"XGBoostClassifier\\\"],\\\"auto_blacklist\\\":true,\\\"blacklist_samples_reached\\\":false,\\\"exclude_nan_labels\\\":true,\\\"verbosity\\\":20,\\\"_debug_log\\\":\\\"automl.log\\\",\\\"show_warnings\\\":false,\\\"model_explainability\\\":true,\\\"service_url\\\":null,\\\"sdk_url\\\":null,\\\"sdk_packages\\\":null,\\\"enable_onnx_compatible_models\\\":false,\\\"enable_split_onnx_featurizer_estimator_models\\\":false,\\\"vm_type\\\":null,\\\"telemetry_verbosity\\\":20,\\\"send_telemetry\\\":true,\\\"enable_dnn\\\":false,\\\"scenario\\\":\\\"SDK-1.13.0\\\",\\\"environment_label\\\":null,\\\"force_text_dnn\\\":false,\\\"enable_feature_sweeping\\\":true,\\\"enable_early_stopping\\\":false,\\\"early_stopping_n_iters\\\":10,\\\"metrics\\\":null,\\\"enable_ensembling\\\":true,\\\"enable_stack_ensembling\\\":true,\\\"ensemble_iterations\\\":15,\\\"enable_tf\\\":false,\\\"enable_subsampling\\\":null,\\\"subsample_seed\\\":null,\\\"enable_nimbusml\\\":false,\\\"enable_streaming\\\":false,\\\"force_streaming\\\":false,\\\"track_child_runs\\\":true,\\\"allowed_private_models\\\":[],\\\"label_column_name\\\":\\\"Promoted_or_Not\\\",\\\"weight_column_name\\\":null,\\\"cv_split_column_names\\\":null,\\\"enable_local_managed\\\":false,\\\"_local_managed_run_id\\\":null,\\\"cost_mode\\\":1,\\\"lag_length\\\":0,\\\"metric_operation\\\":\\\"maximize\\\",\\\"preprocess\\\":true}\", \"DataPrepJsonString\": null, \"EnableSubsampling\": null, \"runTemplate\": \"AutoML\", \"azureml.runsource\": \"automl\", \"display_task_type\": \"classification\", \"dependencies_versions\": \"{\\\"azureml-widgets\\\": \\\"1.20.0\\\", \\\"azureml-train\\\": \\\"1.20.0\\\", \\\"azureml-train-restclients-hyperdrive\\\": \\\"1.20.0\\\", \\\"azureml-train-core\\\": \\\"1.20.0\\\", \\\"azureml-train-automl\\\": \\\"1.20.0\\\", \\\"azureml-train-automl-runtime\\\": \\\"1.20.0\\\", \\\"azureml-train-automl-client\\\": \\\"1.20.0\\\", \\\"azureml-tensorboard\\\": \\\"1.20.0\\\", \\\"azureml-telemetry\\\": \\\"1.20.0\\\", \\\"azureml-sdk\\\": \\\"1.20.0\\\", \\\"azureml-samples\\\": \\\"0+unknown\\\", \\\"azureml-pipeline\\\": \\\"1.20.0\\\", \\\"azureml-pipeline-steps\\\": \\\"1.20.0\\\", \\\"azureml-pipeline-core\\\": \\\"1.20.0\\\", \\\"azureml-opendatasets\\\": \\\"1.20.0\\\", \\\"azureml-model-management-sdk\\\": \\\"1.0.1b6.post1\\\", \\\"azureml-mlflow\\\": \\\"1.20.0.post1\\\", \\\"azureml-interpret\\\": \\\"1.20.0\\\", \\\"azureml-explain-model\\\": \\\"1.20.0\\\", \\\"azureml-defaults\\\": \\\"1.20.0\\\", \\\"azureml-dataset-runtime\\\": \\\"1.20.0\\\", \\\"azureml-dataprep\\\": \\\"2.7.3\\\", \\\"azureml-dataprep-rslex\\\": \\\"1.5.0\\\", \\\"azureml-dataprep-native\\\": \\\"27.0.0\\\", \\\"azureml-datadrift\\\": \\\"1.20.0\\\", \\\"azureml-core\\\": \\\"1.20.0\\\", \\\"azureml-contrib-services\\\": \\\"1.20.0\\\", \\\"azureml-contrib-server\\\": \\\"1.20.0\\\", \\\"azureml-contrib-reinforcementlearning\\\": \\\"1.20.0\\\", \\\"azureml-contrib-pipeline-steps\\\": \\\"1.20.0\\\", \\\"azureml-contrib-notebook\\\": \\\"1.20.0\\\", \\\"azureml-contrib-interpret\\\": \\\"1.20.0\\\", \\\"azureml-contrib-gbdt\\\": \\\"1.20.0\\\", \\\"azureml-contrib-fairness\\\": \\\"1.20.0\\\", \\\"azureml-contrib-dataset\\\": \\\"1.20.0\\\", \\\"azureml-cli-common\\\": \\\"1.20.0\\\", \\\"azureml-automl-runtime\\\": \\\"1.20.0\\\", \\\"azureml-automl-core\\\": \\\"1.20.0\\\", \\\"azureml-accel-models\\\": \\\"1.20.0\\\"}\", \"_aml_system_scenario_identification\": \"Local.Parent\", \"ClientSdkVersion\": \"1.20.0\", \"ClientType\": \"SDK\", \"environment_cpu_name\": \"AzureML-AutoML\", \"environment_cpu_label\": \"prod\", \"environment_gpu_name\": \"AzureML-AutoML-GPU\", \"environment_gpu_label\": \"prod\", \"root_attribution\": \"automl\", \"attribution\": \"AutoML\", \"Orchestrator\": \"AutoML\", \"_azureml.ComputeTargetType\": \"local\", \"ProblemInfoJsonString\": \"{\\\"dataset_num_categorical\\\": 0, \\\"is_sparse\\\": true, \\\"subsampling\\\": false, \\\"dataset_classes\\\": 2, \\\"dataset_features\\\": 47, \\\"dataset_samples\\\": 28734, \\\"single_frequency_class_detected\\\": false}\", \"feature_skus\": \"automatedml_sdk_guardrails\"}, \"tags\": {\"model_explain_run\": \"best_run\", \"best_score\": \"0.9419850463302606\", \"best_pipeline\": \"VotingEnsemble\", \"automl_best_child_run_id\": \"AutoML_91b7d0bd-1b7d-457b-8320-bf768ab34270_41\", \"model_explain_best_run_child_id\": \"AutoML_91b7d0bd-1b7d-457b-8320-bf768ab34270_41\"}, \"end_time_utc\": \"2021-02-08T10:20:30.770091Z\", \"status\": \"Completed\", \"log_files\": {}, \"log_groups\": [], \"run_duration\": \"0:32:49\"}, \"child_runs\": [{\"run_id\": \"AutoML_91b7d0bd-1b7d-457b-8320-bf768ab34270_0\", \"run_number\": 33, \"metric\": null, \"status\": \"Completed\", \"run_type\": null, \"training_percent\": \"100\", \"start_time\": \"2021-02-08T09:48:15.354557Z\", \"end_time\": \"2021-02-08T09:48:44.446843Z\", \"created_time\": \"2021-02-08T09:48:15.256431Z\", \"created_time_dt\": \"2021-02-08T09:48:15.256431Z\", \"duration\": \"0:00:29\", \"iteration\": \"0\", \"goal\": \"accuracy_max\", \"run_name\": \"MaxAbsScaler, LightGBM\", \"run_properties\": \"copy=True\", \"primary_metric\": 0.94090614, \"best_metric\": 0.94090614}, {\"run_id\": \"AutoML_91b7d0bd-1b7d-457b-8320-bf768ab34270_1\", \"run_number\": 34, \"metric\": null, \"status\": \"Completed\", \"run_type\": null, \"training_percent\": \"100\", \"start_time\": \"2021-02-08T09:48:44.744386Z\", \"end_time\": \"2021-02-08T09:49:16.238077Z\", \"created_time\": \"2021-02-08T09:48:44.647867Z\", \"created_time_dt\": \"2021-02-08T09:48:44.647867Z\", \"duration\": \"0:00:31\", \"iteration\": \"1\", \"goal\": \"accuracy_max\", \"run_name\": \"MaxAbsScaler, XGBoostClassifier\", \"run_properties\": \"copy=True\", \"primary_metric\": 0.93878327, \"best_metric\": 0.94090614}, {\"run_id\": \"AutoML_91b7d0bd-1b7d-457b-8320-bf768ab34270_2\", \"run_number\": 35, \"metric\": null, \"status\": \"Completed\", \"run_type\": null, \"training_percent\": \"100\", \"start_time\": \"2021-02-08T09:49:16.840893Z\", \"end_time\": \"2021-02-08T09:49:43.242073Z\", \"created_time\": \"2021-02-08T09:49:16.746385Z\", \"created_time_dt\": \"2021-02-08T09:49:16.746385Z\", \"duration\": \"0:00:26\", \"iteration\": \"2\", \"goal\": \"accuracy_max\", \"run_name\": \"MaxAbsScaler, RandomForest\", \"run_properties\": \"copy=True\", \"primary_metric\": 0.91616195, \"best_metric\": 0.94090614}, {\"run_id\": \"AutoML_91b7d0bd-1b7d-457b-8320-bf768ab34270_3\", \"run_number\": 36, \"metric\": null, \"status\": \"Completed\", \"run_type\": null, \"training_percent\": \"100\", \"start_time\": \"2021-02-08T09:49:44.688047Z\", \"end_time\": \"2021-02-08T09:50:11.211497Z\", \"created_time\": \"2021-02-08T09:49:44.556837Z\", \"created_time_dt\": \"2021-02-08T09:49:44.556837Z\", \"duration\": \"0:00:26\", \"iteration\": \"3\", \"goal\": \"accuracy_max\", \"run_name\": \"MaxAbsScaler, RandomForest\", \"run_properties\": \"copy=True\", \"primary_metric\": 0.9148047, \"best_metric\": 0.94090614}, {\"run_id\": \"AutoML_91b7d0bd-1b7d-457b-8320-bf768ab34270_4\", \"run_number\": 37, \"metric\": null, \"status\": \"Completed\", \"run_type\": null, \"training_percent\": \"100\", \"start_time\": \"2021-02-08T09:50:12.913609Z\", \"end_time\": \"2021-02-08T09:50:46.08158Z\", \"created_time\": \"2021-02-08T09:50:12.811285Z\", \"created_time_dt\": \"2021-02-08T09:50:12.811285Z\", \"duration\": \"0:00:33\", \"iteration\": \"4\", \"goal\": \"accuracy_max\", \"run_name\": \"MaxAbsScaler, RandomForest\", \"run_properties\": \"copy=True\", \"primary_metric\": 0.69005361, \"best_metric\": 0.94090614}, {\"run_id\": \"AutoML_91b7d0bd-1b7d-457b-8320-bf768ab34270_5\", \"run_number\": 38, \"metric\": null, \"status\": \"Completed\", \"run_type\": null, \"training_percent\": \"100\", \"start_time\": \"2021-02-08T09:50:47.684167Z\", \"end_time\": \"2021-02-08T09:51:13.333637Z\", \"created_time\": \"2021-02-08T09:50:47.59236Z\", \"created_time_dt\": \"2021-02-08T09:50:47.59236Z\", \"duration\": \"0:00:25\", \"iteration\": \"5\", \"goal\": \"accuracy_max\", \"run_name\": \"MaxAbsScaler, RandomForest\", \"run_properties\": \"copy=True\", \"primary_metric\": 0.69750153, \"best_metric\": 0.94090614}, {\"run_id\": \"AutoML_91b7d0bd-1b7d-457b-8320-bf768ab34270_6\", \"run_number\": 39, \"metric\": null, \"status\": \"Completed\", \"run_type\": null, \"training_percent\": \"100\", \"start_time\": \"2021-02-08T09:51:14.694625Z\", \"end_time\": \"2021-02-08T09:51:47.71477Z\", \"created_time\": \"2021-02-08T09:51:14.586825Z\", \"created_time_dt\": \"2021-02-08T09:51:14.586825Z\", \"duration\": \"0:00:33\", \"iteration\": \"6\", \"goal\": \"accuracy_max\", \"run_name\": \"StandardScalerWrapper, LightGBM\", \"run_properties\": \"<azureml.automl.runtime.shared.model_wrappers.StandardScalerWrapper object at 0x7fcb1b1294a8\", \"primary_metric\": 0.92729865, \"best_metric\": 0.94090614}, {\"run_id\": \"AutoML_91b7d0bd-1b7d-457b-8320-bf768ab34270_7\", \"run_number\": 40, \"metric\": null, \"status\": \"Completed\", \"run_type\": null, \"training_percent\": \"100\", \"start_time\": \"2021-02-08T09:51:50.366576Z\", \"end_time\": \"2021-02-08T09:52:56.819039Z\", \"created_time\": \"2021-02-08T09:51:49.847397Z\", \"created_time_dt\": \"2021-02-08T09:51:49.847397Z\", \"duration\": \"0:01:06\", \"iteration\": \"7\", \"goal\": \"accuracy_max\", \"run_name\": \"MaxAbsScaler, RandomForest\", \"run_properties\": \"copy=True\", \"primary_metric\": 0.9148047, \"best_metric\": 0.94090614}, {\"run_id\": \"AutoML_91b7d0bd-1b7d-457b-8320-bf768ab34270_8\", \"run_number\": 41, \"metric\": null, \"status\": \"Completed\", \"run_type\": null, \"training_percent\": \"100\", \"start_time\": \"2021-02-08T09:52:58.134086Z\", \"end_time\": \"2021-02-08T09:53:24.58361Z\", \"created_time\": \"2021-02-08T09:52:58.027248Z\", \"created_time_dt\": \"2021-02-08T09:52:58.027248Z\", \"duration\": \"0:00:26\", \"iteration\": \"8\", \"goal\": \"accuracy_max\", \"run_name\": \"SparseNormalizer, LightGBM\", \"run_properties\": \"<azureml.automl.runtime.shared.model_wrappers.SparseNormalizer object at 0x7fcb1a64d128\", \"primary_metric\": 0.93331938, \"best_metric\": 0.94090614}, {\"run_id\": \"AutoML_91b7d0bd-1b7d-457b-8320-bf768ab34270_9\", \"run_number\": 42, \"metric\": null, \"status\": \"Completed\", \"run_type\": null, \"training_percent\": \"100\", \"start_time\": \"2021-02-08T09:53:25.834064Z\", \"end_time\": \"2021-02-08T09:54:10.818271Z\", \"created_time\": \"2021-02-08T09:53:25.700812Z\", \"created_time_dt\": \"2021-02-08T09:53:25.700812Z\", \"duration\": \"0:00:45\", \"iteration\": \"9\", \"goal\": \"accuracy_max\", \"run_name\": \"SparseNormalizer, XGBoostClassifier\", \"run_properties\": \"<azureml.automl.runtime.shared.model_wrappers.SparseNormalizer object at 0x7fcb1a6bb9e8\", \"primary_metric\": 0.94097576, \"best_metric\": 0.94097576}, {\"run_id\": \"AutoML_91b7d0bd-1b7d-457b-8320-bf768ab34270_10\", \"run_number\": 43, \"metric\": null, \"status\": \"Completed\", \"run_type\": null, \"training_percent\": \"100\", \"start_time\": \"2021-02-08T09:54:13.086023Z\", \"end_time\": \"2021-02-08T09:54:46.409579Z\", \"created_time\": \"2021-02-08T09:54:12.685638Z\", \"created_time_dt\": \"2021-02-08T09:54:12.685638Z\", \"duration\": \"0:00:33\", \"iteration\": \"10\", \"goal\": \"accuracy_max\", \"run_name\": \"StandardScalerWrapper, LightGBM\", \"run_properties\": \"<azureml.automl.runtime.shared.model_wrappers.StandardScalerWrapper object at 0x7fcb0a26e908\", \"primary_metric\": 0.9148047, \"best_metric\": 0.94097576}, {\"run_id\": \"AutoML_91b7d0bd-1b7d-457b-8320-bf768ab34270_11\", \"run_number\": 44, \"metric\": null, \"status\": \"Completed\", \"run_type\": null, \"training_percent\": \"100\", \"start_time\": \"2021-02-08T09:54:48.703615Z\", \"end_time\": \"2021-02-08T09:55:26.234944Z\", \"created_time\": \"2021-02-08T09:54:48.299587Z\", \"created_time_dt\": \"2021-02-08T09:54:48.299587Z\", \"duration\": \"0:00:37\", \"iteration\": \"11\", \"goal\": \"accuracy_max\", \"run_name\": \"SparseNormalizer, XGBoostClassifier\", \"run_properties\": \"<azureml.automl.runtime.shared.model_wrappers.SparseNormalizer object at 0x7fcb1b033438\", \"primary_metric\": 0.93843528, \"best_metric\": 0.94097576}, {\"run_id\": \"AutoML_91b7d0bd-1b7d-457b-8320-bf768ab34270_12\", \"run_number\": 45, \"metric\": null, \"status\": \"Completed\", \"run_type\": null, \"training_percent\": \"100\", \"start_time\": \"2021-02-08T09:55:27.63044Z\", \"end_time\": \"2021-02-08T09:56:06.113589Z\", \"created_time\": \"2021-02-08T09:55:27.532109Z\", \"created_time_dt\": \"2021-02-08T09:55:27.532109Z\", \"duration\": \"0:00:38\", \"iteration\": \"12\", \"goal\": \"accuracy_max\", \"run_name\": \"SparseNormalizer, XGBoostClassifier\", \"run_properties\": \"<azureml.automl.runtime.shared.model_wrappers.SparseNormalizer object at 0x7fcb1a666cf8\", \"primary_metric\": 0.93676479, \"best_metric\": 0.94097576}, {\"run_id\": \"AutoML_91b7d0bd-1b7d-457b-8320-bf768ab34270_13\", \"run_number\": 46, \"metric\": null, \"status\": \"Completed\", \"run_type\": null, \"training_percent\": \"100\", \"start_time\": \"2021-02-08T09:56:08.316444Z\", \"end_time\": \"2021-02-08T09:56:45.50607Z\", \"created_time\": \"2021-02-08T09:56:07.878293Z\", \"created_time_dt\": \"2021-02-08T09:56:07.878293Z\", \"duration\": \"0:00:37\", \"iteration\": \"13\", \"goal\": \"accuracy_max\", \"run_name\": \"SparseNormalizer, XGBoostClassifier\", \"run_properties\": \"<azureml.automl.runtime.shared.model_wrappers.SparseNormalizer object at 0x7fcb1b1489e8\", \"primary_metric\": 0.94069736, \"best_metric\": 0.94097576}, {\"run_id\": \"AutoML_91b7d0bd-1b7d-457b-8320-bf768ab34270_14\", \"run_number\": 47, \"metric\": null, \"status\": \"Completed\", \"run_type\": null, \"training_percent\": \"100\", \"start_time\": \"2021-02-08T09:56:47.764911Z\", \"end_time\": \"2021-02-08T09:57:22.61437Z\", \"created_time\": \"2021-02-08T09:56:47.386234Z\", \"created_time_dt\": \"2021-02-08T09:56:47.386234Z\", \"duration\": \"0:00:35\", \"iteration\": \"14\", \"goal\": \"accuracy_max\", \"run_name\": \"SparseNormalizer, LightGBM\", \"run_properties\": \"<azureml.automl.runtime.shared.model_wrappers.SparseNormalizer object at 0x7fcb0a4274a8\", \"primary_metric\": 0.92952596, \"best_metric\": 0.94097576}, {\"run_id\": \"AutoML_91b7d0bd-1b7d-457b-8320-bf768ab34270_15\", \"run_number\": 48, \"metric\": null, \"status\": \"Completed\", \"run_type\": null, \"training_percent\": \"100\", \"start_time\": \"2021-02-08T09:57:23.906777Z\", \"end_time\": \"2021-02-08T09:57:56.214526Z\", \"created_time\": \"2021-02-08T09:57:23.811253Z\", \"created_time_dt\": \"2021-02-08T09:57:23.811253Z\", \"duration\": \"0:00:32\", \"iteration\": \"15\", \"goal\": \"accuracy_max\", \"run_name\": \"StandardScalerWrapper, LogisticRegression\", \"run_properties\": \"<azureml.automl.runtime.shared.model_wrappers.StandardScalerWrapper object at 0x7fcb1af877f0\", \"primary_metric\": 0.92298321, \"best_metric\": 0.94097576}, {\"run_id\": \"AutoML_91b7d0bd-1b7d-457b-8320-bf768ab34270_16\", \"run_number\": 49, \"metric\": null, \"status\": \"Completed\", \"run_type\": null, \"training_percent\": \"100\", \"start_time\": \"2021-02-08T09:57:57.48914Z\", \"end_time\": \"2021-02-08T09:58:26.829223Z\", \"created_time\": \"2021-02-08T09:57:57.390426Z\", \"created_time_dt\": \"2021-02-08T09:57:57.390426Z\", \"duration\": \"0:00:29\", \"iteration\": \"16\", \"goal\": \"accuracy_max\", \"run_name\": \"StandardScalerWrapper, LightGBM\", \"run_properties\": \"<azureml.automl.runtime.shared.model_wrappers.StandardScalerWrapper object at 0x7fcb0a394438\", \"primary_metric\": 0.9148047, \"best_metric\": 0.94097576}, {\"run_id\": \"AutoML_91b7d0bd-1b7d-457b-8320-bf768ab34270_17\", \"run_number\": 50, \"metric\": null, \"status\": \"Completed\", \"run_type\": null, \"training_percent\": \"100\", \"start_time\": \"2021-02-08T09:58:27.985674Z\", \"end_time\": \"2021-02-08T09:58:54.496182Z\", \"created_time\": \"2021-02-08T09:58:27.896842Z\", \"created_time_dt\": \"2021-02-08T09:58:27.896842Z\", \"duration\": \"0:00:26\", \"iteration\": \"17\", \"goal\": \"accuracy_max\", \"run_name\": \"SparseNormalizer, LightGBM\", \"run_properties\": \"<azureml.automl.runtime.shared.model_wrappers.SparseNormalizer object at 0x7fcb1c38fd68\", \"primary_metric\": 0.9148047, \"best_metric\": 0.94097576}, {\"run_id\": \"AutoML_91b7d0bd-1b7d-457b-8320-bf768ab34270_18\", \"run_number\": 51, \"metric\": null, \"status\": \"Completed\", \"run_type\": null, \"training_percent\": \"100\", \"start_time\": \"2021-02-08T09:58:55.813423Z\", \"end_time\": \"2021-02-08T09:59:23.180484Z\", \"created_time\": \"2021-02-08T09:58:55.66736Z\", \"created_time_dt\": \"2021-02-08T09:58:55.66736Z\", \"duration\": \"0:00:27\", \"iteration\": \"18\", \"goal\": \"accuracy_max\", \"run_name\": \"SparseNormalizer, XGBoostClassifier\", \"run_properties\": \"<azureml.automl.runtime.shared.model_wrappers.SparseNormalizer object at 0x7fcb1b033a90\", \"primary_metric\": 0.93502473, \"best_metric\": 0.94097576}, {\"run_id\": \"AutoML_91b7d0bd-1b7d-457b-8320-bf768ab34270_19\", \"run_number\": 52, \"metric\": null, \"status\": \"Completed\", \"run_type\": null, \"training_percent\": \"100\", \"start_time\": \"2021-02-08T09:59:24.56847Z\", \"end_time\": \"2021-02-08T09:59:55.292258Z\", \"created_time\": \"2021-02-08T09:59:24.46593Z\", \"created_time_dt\": \"2021-02-08T09:59:24.46593Z\", \"duration\": \"0:00:30\", \"iteration\": \"19\", \"goal\": \"accuracy_max\", \"run_name\": \"SparseNormalizer, LightGBM\", \"run_properties\": \"<azureml.automl.runtime.shared.model_wrappers.SparseNormalizer object at 0x7fcb0a486cf8\", \"primary_metric\": 0.92354005, \"best_metric\": 0.94097576}, {\"run_id\": \"AutoML_91b7d0bd-1b7d-457b-8320-bf768ab34270_20\", \"run_number\": 53, \"metric\": null, \"status\": \"Completed\", \"run_type\": null, \"training_percent\": \"100\", \"start_time\": \"2021-02-08T09:59:56.585296Z\", \"end_time\": \"2021-02-08T10:00:30.442131Z\", \"created_time\": \"2021-02-08T09:59:56.460668Z\", \"created_time_dt\": \"2021-02-08T09:59:56.460668Z\", \"duration\": \"0:00:33\", \"iteration\": \"20\", \"goal\": \"accuracy_max\", \"run_name\": \"SparseNormalizer, XGBoostClassifier\", \"run_properties\": \"<azureml.automl.runtime.shared.model_wrappers.SparseNormalizer object at 0x7fcb1a5dce10\", \"primary_metric\": 0.93185771, \"best_metric\": 0.94097576}, {\"run_id\": \"AutoML_91b7d0bd-1b7d-457b-8320-bf768ab34270_21\", \"run_number\": 54, \"metric\": null, \"status\": \"Completed\", \"run_type\": null, \"training_percent\": \"100\", \"start_time\": \"2021-02-08T10:00:31.767813Z\", \"end_time\": \"2021-02-08T10:01:23.038045Z\", \"created_time\": \"2021-02-08T10:00:31.639624Z\", \"created_time_dt\": \"2021-02-08T10:00:31.639624Z\", \"duration\": \"0:00:51\", \"iteration\": \"21\", \"goal\": \"accuracy_max\", \"run_name\": \"StandardScalerWrapper, ExtremeRandomTrees\", \"run_properties\": \"<azureml.automl.runtime.shared.model_wrappers.StandardScalerWrapper object at 0x7fcb0a299c18\", \"primary_metric\": 0.9148047, \"best_metric\": 0.94097576}, {\"run_id\": \"AutoML_91b7d0bd-1b7d-457b-8320-bf768ab34270_22\", \"run_number\": 55, \"metric\": null, \"status\": \"Completed\", \"run_type\": null, \"training_percent\": \"100\", \"start_time\": \"2021-02-08T10:01:24.378993Z\", \"end_time\": \"2021-02-08T10:01:52.945977Z\", \"created_time\": \"2021-02-08T10:01:24.263984Z\", \"created_time_dt\": \"2021-02-08T10:01:24.263984Z\", \"duration\": \"0:00:28\", \"iteration\": \"22\", \"goal\": \"accuracy_max\", \"run_name\": \"SparseNormalizer, GradientBoosting\", \"run_properties\": \"<azureml.automl.runtime.shared.model_wrappers.SparseNormalizer object at 0x7fcb1bb3c390\", \"primary_metric\": 0.9148047, \"best_metric\": 0.94097576}, {\"run_id\": \"AutoML_91b7d0bd-1b7d-457b-8320-bf768ab34270_23\", \"run_number\": 56, \"metric\": null, \"status\": \"Completed\", \"run_type\": null, \"training_percent\": \"100\", \"start_time\": \"2021-02-08T10:01:54.283736Z\", \"end_time\": \"2021-02-08T10:02:26.64648Z\", \"created_time\": \"2021-02-08T10:01:54.183866Z\", \"created_time_dt\": \"2021-02-08T10:01:54.183866Z\", \"duration\": \"0:00:32\", \"iteration\": \"23\", \"goal\": \"accuracy_max\", \"run_name\": \"MaxAbsScaler, LightGBM\", \"run_properties\": \"copy=True\", \"primary_metric\": 0.9148047, \"best_metric\": 0.94097576}, {\"run_id\": \"AutoML_91b7d0bd-1b7d-457b-8320-bf768ab34270_24\", \"run_number\": 57, \"metric\": null, \"status\": \"Completed\", \"run_type\": null, \"training_percent\": \"100\", \"start_time\": \"2021-02-08T10:02:27.772185Z\", \"end_time\": \"2021-02-08T10:03:38.157315Z\", \"created_time\": \"2021-02-08T10:02:27.678898Z\", \"created_time_dt\": \"2021-02-08T10:02:27.678898Z\", \"duration\": \"0:01:10\", \"iteration\": \"24\", \"goal\": \"accuracy_max\", \"run_name\": \"SparseNormalizer, XGBoostClassifier\", \"run_properties\": \"<azureml.automl.runtime.shared.model_wrappers.SparseNormalizer object at 0x7fcb0a3b5ba8\", \"primary_metric\": 0.93558148, \"best_metric\": 0.94097576}, {\"run_id\": \"AutoML_91b7d0bd-1b7d-457b-8320-bf768ab34270_25\", \"run_number\": 58, \"metric\": null, \"status\": \"Completed\", \"run_type\": null, \"training_percent\": \"100\", \"start_time\": \"2021-02-08T10:03:40.484971Z\", \"end_time\": \"2021-02-08T10:04:06.959795Z\", \"created_time\": \"2021-02-08T10:03:40.384664Z\", \"created_time_dt\": \"2021-02-08T10:03:40.384664Z\", \"duration\": \"0:00:26\", \"iteration\": \"25\", \"goal\": \"accuracy_max\", \"run_name\": \"SparseNormalizer, XGBoostClassifier\", \"run_properties\": \"<azureml.automl.runtime.shared.model_wrappers.SparseNormalizer object at 0x7fcb1af782b0\", \"primary_metric\": 0.9148047, \"best_metric\": 0.94097576}, {\"run_id\": \"AutoML_91b7d0bd-1b7d-457b-8320-bf768ab34270_26\", \"run_number\": 59, \"metric\": null, \"status\": \"Completed\", \"run_type\": null, \"training_percent\": \"100\", \"start_time\": \"2021-02-08T10:04:08.292868Z\", \"end_time\": \"2021-02-08T10:04:59.069332Z\", \"created_time\": \"2021-02-08T10:04:08.184764Z\", \"created_time_dt\": \"2021-02-08T10:04:08.184764Z\", \"duration\": \"0:00:50\", \"iteration\": \"26\", \"goal\": \"accuracy_max\", \"run_name\": \"StandardScalerWrapper, XGBoostClassifier\", \"run_properties\": \"<azureml.automl.runtime.shared.model_wrappers.StandardScalerWrapper object at 0x7fcb0a240b38\", \"primary_metric\": 0.93405018, \"best_metric\": 0.94097576}, {\"run_id\": \"AutoML_91b7d0bd-1b7d-457b-8320-bf768ab34270_27\", \"run_number\": 60, \"metric\": null, \"status\": \"Completed\", \"run_type\": null, \"training_percent\": \"100\", \"start_time\": \"2021-02-08T10:05:00.345467Z\", \"end_time\": \"2021-02-08T10:05:40.386253Z\", \"created_time\": \"2021-02-08T10:05:00.246928Z\", \"created_time_dt\": \"2021-02-08T10:05:00.246928Z\", \"duration\": \"0:00:40\", \"iteration\": \"27\", \"goal\": \"accuracy_max\", \"run_name\": \"MaxAbsScaler, LightGBM\", \"run_properties\": \"copy=True\", \"primary_metric\": 0.92159112, \"best_metric\": 0.94097576}, {\"run_id\": \"AutoML_91b7d0bd-1b7d-457b-8320-bf768ab34270_28\", \"run_number\": 61, \"metric\": null, \"status\": \"Completed\", \"run_type\": null, \"training_percent\": \"100\", \"start_time\": \"2021-02-08T10:05:42.116458Z\", \"end_time\": \"2021-02-08T10:06:32.013641Z\", \"created_time\": \"2021-02-08T10:05:41.83568Z\", \"created_time_dt\": \"2021-02-08T10:05:41.83568Z\", \"duration\": \"0:00:50\", \"iteration\": \"28\", \"goal\": \"accuracy_max\", \"run_name\": \"StandardScalerWrapper, XGBoostClassifier\", \"run_properties\": \"<azureml.automl.runtime.shared.model_wrappers.StandardScalerWrapper object at 0x7fcb0c41ef28\", \"primary_metric\": 0.9403493, \"best_metric\": 0.94097576}, {\"run_id\": \"AutoML_91b7d0bd-1b7d-457b-8320-bf768ab34270_29\", \"run_number\": 62, \"metric\": null, \"status\": \"Completed\", \"run_type\": null, \"training_percent\": \"100\", \"start_time\": \"2021-02-08T10:06:33.73348Z\", \"end_time\": \"2021-02-08T10:08:48.66797Z\", \"created_time\": \"2021-02-08T10:06:33.435625Z\", \"created_time_dt\": \"2021-02-08T10:06:33.435625Z\", \"duration\": \"0:02:15\", \"iteration\": \"29\", \"goal\": \"accuracy_max\", \"run_name\": \"SparseNormalizer, XGBoostClassifier\", \"run_properties\": \"<azureml.automl.runtime.shared.model_wrappers.SparseNormalizer object at 0x7fcb0c4319e8\", \"primary_metric\": 0.93606866, \"best_metric\": 0.94097576}, {\"run_id\": \"AutoML_91b7d0bd-1b7d-457b-8320-bf768ab34270_30\", \"run_number\": 63, \"metric\": null, \"status\": \"Completed\", \"run_type\": null, \"training_percent\": \"100\", \"start_time\": \"2021-02-08T10:08:51.013248Z\", \"end_time\": \"2021-02-08T10:09:19.388702Z\", \"created_time\": \"2021-02-08T10:08:50.909116Z\", \"created_time_dt\": \"2021-02-08T10:08:50.909116Z\", \"duration\": \"0:00:28\", \"iteration\": \"30\", \"goal\": \"accuracy_max\", \"run_name\": \"SparseNormalizer, XGBoostClassifier\", \"run_properties\": \"<azureml.automl.runtime.shared.model_wrappers.SparseNormalizer object at 0x7fcb0a1e2f98\", \"primary_metric\": 0.9148047, \"best_metric\": 0.94097576}, {\"run_id\": \"AutoML_91b7d0bd-1b7d-457b-8320-bf768ab34270_31\", \"run_number\": 64, \"metric\": null, \"status\": \"Completed\", \"run_type\": null, \"training_percent\": \"100\", \"start_time\": \"2021-02-08T10:09:20.708515Z\", \"end_time\": \"2021-02-08T10:09:59.885921Z\", \"created_time\": \"2021-02-08T10:09:20.609317Z\", \"created_time_dt\": \"2021-02-08T10:09:20.609317Z\", \"duration\": \"0:00:39\", \"iteration\": \"31\", \"goal\": \"accuracy_max\", \"run_name\": \"StandardScalerWrapper, XGBoostClassifier\", \"run_properties\": \"<azureml.automl.runtime.shared.model_wrappers.StandardScalerWrapper object at 0x7fcb1c343eb8\", \"primary_metric\": 0.93934007, \"best_metric\": 0.94097576}, {\"run_id\": \"AutoML_91b7d0bd-1b7d-457b-8320-bf768ab34270_32\", \"run_number\": 65, \"metric\": null, \"status\": \"Completed\", \"run_type\": null, \"training_percent\": \"100\", \"start_time\": \"2021-02-08T10:10:01.19287Z\", \"end_time\": \"2021-02-08T10:10:29.117367Z\", \"created_time\": \"2021-02-08T10:10:01.093987Z\", \"created_time_dt\": \"2021-02-08T10:10:01.093987Z\", \"duration\": \"0:00:28\", \"iteration\": \"32\", \"goal\": \"accuracy_max\", \"run_name\": \"StandardScalerWrapper, XGBoostClassifier\", \"run_properties\": \"<azureml.automl.runtime.shared.model_wrappers.StandardScalerWrapper object at 0x7fcb0a43bb00\", \"primary_metric\": 0.93512909, \"best_metric\": 0.94097576}, {\"run_id\": \"AutoML_91b7d0bd-1b7d-457b-8320-bf768ab34270_33\", \"run_number\": 66, \"metric\": null, \"status\": \"Completed\", \"run_type\": null, \"training_percent\": \"100\", \"start_time\": \"2021-02-08T10:10:30.81647Z\", \"end_time\": \"2021-02-08T10:11:11.361924Z\", \"created_time\": \"2021-02-08T10:10:30.514237Z\", \"created_time_dt\": \"2021-02-08T10:10:30.514237Z\", \"duration\": \"0:00:40\", \"iteration\": \"33\", \"goal\": \"accuracy_max\", \"run_name\": \"SparseNormalizer, XGBoostClassifier\", \"run_properties\": \"<azureml.automl.runtime.shared.model_wrappers.SparseNormalizer object at 0x7fcb1a622c18\", \"primary_metric\": 0.94052334, \"best_metric\": 0.94097576}, {\"run_id\": \"AutoML_91b7d0bd-1b7d-457b-8320-bf768ab34270_34\", \"run_number\": 67, \"metric\": null, \"status\": \"Completed\", \"run_type\": null, \"training_percent\": \"100\", \"start_time\": \"2021-02-08T10:11:12.665794Z\", \"end_time\": \"2021-02-08T10:12:41.829354Z\", \"created_time\": \"2021-02-08T10:11:12.581707Z\", \"created_time_dt\": \"2021-02-08T10:11:12.581707Z\", \"duration\": \"0:01:29\", \"iteration\": \"34\", \"goal\": \"accuracy_max\", \"run_name\": \"StandardScalerWrapper, XGBoostClassifier\", \"run_properties\": \"<azureml.automl.runtime.shared.model_wrappers.StandardScalerWrapper object at 0x7fcb1a5e57b8\", \"primary_metric\": 0.93495499, \"best_metric\": 0.94097576}, {\"run_id\": \"AutoML_91b7d0bd-1b7d-457b-8320-bf768ab34270_35\", \"run_number\": 68, \"metric\": null, \"status\": \"Completed\", \"run_type\": null, \"training_percent\": \"100\", \"start_time\": \"2021-02-08T10:12:44.61822Z\", \"end_time\": \"2021-02-08T10:13:11.996376Z\", \"created_time\": \"2021-02-08T10:12:44.315608Z\", \"created_time_dt\": \"2021-02-08T10:12:44.315608Z\", \"duration\": \"0:00:27\", \"iteration\": \"35\", \"goal\": \"accuracy_max\", \"run_name\": \"StandardScalerWrapper, XGBoostClassifier\", \"run_properties\": \"<azureml.automl.runtime.shared.model_wrappers.StandardScalerWrapper object at 0x7fcb1c31c3c8\", \"primary_metric\": 0.9148047, \"best_metric\": 0.94097576}, {\"run_id\": \"AutoML_91b7d0bd-1b7d-457b-8320-bf768ab34270_36\", \"run_number\": 69, \"metric\": null, \"status\": \"Completed\", \"run_type\": null, \"training_percent\": \"100\", \"start_time\": \"2021-02-08T10:13:14.119403Z\", \"end_time\": \"2021-02-08T10:13:46.811963Z\", \"created_time\": \"2021-02-08T10:13:13.803088Z\", \"created_time_dt\": \"2021-02-08T10:13:13.803088Z\", \"duration\": \"0:00:33\", \"iteration\": \"36\", \"goal\": \"accuracy_max\", \"run_name\": \"SparseNormalizer, XGBoostClassifier\", \"run_properties\": \"<azureml.automl.runtime.shared.model_wrappers.SparseNormalizer object at 0x7fcb0a1d1240\", \"primary_metric\": 0.93857445, \"best_metric\": 0.94097576}, {\"run_id\": \"AutoML_91b7d0bd-1b7d-457b-8320-bf768ab34270_37\", \"run_number\": 70, \"metric\": null, \"status\": \"Completed\", \"run_type\": null, \"training_percent\": \"100\", \"start_time\": \"2021-02-08T10:13:48.051709Z\", \"end_time\": \"2021-02-08T10:14:32.607005Z\", \"created_time\": \"2021-02-08T10:13:47.930902Z\", \"created_time_dt\": \"2021-02-08T10:13:47.930902Z\", \"duration\": \"0:00:44\", \"iteration\": \"37\", \"goal\": \"accuracy_max\", \"run_name\": \"StandardScalerWrapper, LightGBM\", \"run_properties\": \"<azureml.automl.runtime.shared.model_wrappers.StandardScalerWrapper object at 0x7fcb1c2a8b70\", \"primary_metric\": 0.93885291, \"best_metric\": 0.94097576}, {\"run_id\": \"AutoML_91b7d0bd-1b7d-457b-8320-bf768ab34270_38\", \"run_number\": 71, \"metric\": null, \"status\": \"Completed\", \"run_type\": null, \"training_percent\": \"100\", \"start_time\": \"2021-02-08T10:14:33.830288Z\", \"end_time\": \"2021-02-08T10:15:10.692202Z\", \"created_time\": \"2021-02-08T10:14:33.720512Z\", \"created_time_dt\": \"2021-02-08T10:14:33.720512Z\", \"duration\": \"0:00:36\", \"iteration\": \"38\", \"goal\": \"accuracy_max\", \"run_name\": \"StandardScalerWrapper, XGBoostClassifier\", \"run_properties\": \"<azureml.automl.runtime.shared.model_wrappers.StandardScalerWrapper object at 0x7fcb1c2e4c18\", \"primary_metric\": 0.93485065, \"best_metric\": 0.94097576}, {\"run_id\": \"AutoML_91b7d0bd-1b7d-457b-8320-bf768ab34270_39\", \"run_number\": 72, \"metric\": null, \"status\": \"Completed\", \"run_type\": null, \"training_percent\": \"100\", \"start_time\": \"2021-02-08T10:15:11.876076Z\", \"end_time\": \"2021-02-08T10:16:10.218411Z\", \"created_time\": \"2021-02-08T10:15:11.780083Z\", \"created_time_dt\": \"2021-02-08T10:15:11.780083Z\", \"duration\": \"0:00:58\", \"iteration\": \"39\", \"goal\": \"accuracy_max\", \"run_name\": \"StandardScalerWrapper, XGBoostClassifier\", \"run_properties\": \"<azureml.automl.runtime.shared.model_wrappers.StandardScalerWrapper object at 0x7fcb1c36ab70\", \"primary_metric\": 0.92270478, \"best_metric\": 0.94097576}, {\"run_id\": \"AutoML_91b7d0bd-1b7d-457b-8320-bf768ab34270_40\", \"run_number\": 73, \"metric\": null, \"status\": \"Completed\", \"run_type\": null, \"training_percent\": \"100\", \"start_time\": \"2021-02-08T10:16:12.489373Z\", \"end_time\": \"2021-02-08T10:17:55.693637Z\", \"created_time\": \"2021-02-08T10:16:12.392724Z\", \"created_time_dt\": \"2021-02-08T10:16:12.392724Z\", \"duration\": \"0:01:43\", \"iteration\": \"40\", \"goal\": \"accuracy_max\", \"run_name\": \"SparseNormalizer, XGBoostClassifier\", \"run_properties\": \"<azureml.automl.runtime.shared.model_wrappers.SparseNormalizer object at 0x7fcb1c17e860\", \"primary_metric\": 0.93164888, \"best_metric\": 0.94097576}, {\"run_id\": \"AutoML_91b7d0bd-1b7d-457b-8320-bf768ab34270_41\", \"run_number\": 74, \"metric\": null, \"status\": \"Completed\", \"run_type\": null, \"training_percent\": \"100\", \"start_time\": \"2021-02-08T10:17:56.011808Z\", \"end_time\": \"2021-02-08T10:19:00.948102Z\", \"created_time\": \"2021-02-08T10:17:55.920084Z\", \"created_time_dt\": \"2021-02-08T10:17:55.920084Z\", \"duration\": \"0:01:05\", \"iteration\": \"41\", \"goal\": \"accuracy_max\", \"run_name\": \"VotingEnsemble\", \"run_properties\": \"classification_labels=None,\\n                              estimators=[('9',\\n                                           Pipeline(memory=None,\\n                                                    steps=[('sparsenormalizer',\\n                                                            <azureml.automl.runtime.shared.model_wrappers.SparseNormalizer object at 0x7fcb1bfb2cf8>\", \"primary_metric\": 0.94198505, \"best_metric\": 0.94198505}, {\"run_id\": \"AutoML_91b7d0bd-1b7d-457b-8320-bf768ab34270_42\", \"run_number\": 75, \"metric\": null, \"status\": \"Completed\", \"run_type\": null, \"training_percent\": \"100\", \"start_time\": \"2021-02-08T10:19:01.2671Z\", \"end_time\": \"2021-02-08T10:20:27.882225Z\", \"created_time\": \"2021-02-08T10:19:01.167558Z\", \"created_time_dt\": \"2021-02-08T10:19:01.167558Z\", \"duration\": \"0:01:26\", \"iteration\": \"42\", \"goal\": \"accuracy_max\", \"run_name\": \"StackEnsemble\", \"run_properties\": \"base_learners=[('9',\\n                                        Pipeline(memory=None,\\n                                                 steps=[('sparsenormalizer',\\n                                                         <azureml.automl.runtime.shared.model_wrappers.SparseNormalizer object at 0x7fcb0a6a6048>\", \"primary_metric\": 0.94170663, \"best_metric\": 0.94198505}], \"children_metrics\": {\"categories\": [0], \"series\": {\"balanced_accuracy\": [{\"categories\": [\"0\", \"1\", \"2\", \"3\", \"4\", \"5\", \"6\", \"7\", \"8\", \"9\", \"10\", \"11\", \"12\", \"13\", \"14\", \"15\", \"16\", \"17\", \"18\", \"19\", \"20\", \"21\", \"22\", \"23\", \"24\", \"25\", \"26\", \"27\", \"28\", \"29\", \"30\", \"31\", \"32\", \"33\", \"34\", \"35\", \"36\", \"37\", \"38\", \"39\", \"40\", \"41\", \"42\"], \"mode\": \"markers\", \"name\": \"balanced_accuracy\", \"stepped\": false, \"type\": \"scatter\", \"data\": [0.6658580980810447, 0.646028834298668, 0.5091892894448143, 0.5, 0.7531019999963593, 0.7343411629437563, 0.5900503567850827, 0.5, 0.6130089850812797, 0.6681895005168198, 0.5, 0.646636066830181, 0.6332725139285763, 0.659878332842006, 0.592524196339243, 0.5677796194175436, 0.5, 0.5, 0.6266438436639533, 0.5641497933929747, 0.6046512639896131, 0.5, 0.5, 0.5, 0.6612788007256134, 0.5, 0.6315567908269355, 0.5583449694924301, 0.6676871464841153, 0.6731188662433747, 0.5, 0.6709660881068608, 0.6260417755299488, 0.665288855968493, 0.6759657685339499, 0.5, 0.649661645456618, 0.6729157823221495, 0.6327315761930714, 0.642790643519172, 0.6668320214731522, 0.6666659978085006, 0.6646739055810523]}, {\"categories\": [\"0\", \"1\", \"2\", \"3\", \"4\", \"5\", \"6\", \"7\", \"8\", \"9\", \"10\", \"11\", \"12\", \"13\", \"14\", \"15\", \"16\", \"17\", \"18\", \"19\", \"20\", \"21\", \"22\", \"23\", \"24\", \"25\", \"26\", \"27\", \"28\", \"29\", \"30\", \"31\", \"32\", \"33\", \"34\", \"35\", \"36\", \"37\", \"38\", \"39\", \"40\", \"41\", \"42\"], \"mode\": \"lines\", \"name\": \"balanced_accuracy_max\", \"stepped\": true, \"type\": \"scatter\", \"data\": [0.6658580980810447, 0.6658580980810447, 0.6658580980810447, 0.6658580980810447, 0.7531019999963593, 0.7531019999963593, 0.7531019999963593, 0.7531019999963593, 0.7531019999963593, 0.7531019999963593, 0.7531019999963593, 0.7531019999963593, 0.7531019999963593, 0.7531019999963593, 0.7531019999963593, 0.7531019999963593, 0.7531019999963593, 0.7531019999963593, 0.7531019999963593, 0.7531019999963593, 0.7531019999963593, 0.7531019999963593, 0.7531019999963593, 0.7531019999963593, 0.7531019999963593, 0.7531019999963593, 0.7531019999963593, 0.7531019999963593, 0.7531019999963593, 0.7531019999963593, 0.7531019999963593, 0.7531019999963593, 0.7531019999963593, 0.7531019999963593, 0.7531019999963593, 0.7531019999963593, 0.7531019999963593, 0.7531019999963593, 0.7531019999963593, 0.7531019999963593, 0.7531019999963593, 0.7531019999963593, 0.7531019999963593]}], \"f1_score_macro\": [{\"categories\": [\"0\", \"1\", \"2\", \"3\", \"4\", \"5\", \"6\", \"7\", \"8\", \"9\", \"10\", \"11\", \"12\", \"13\", \"14\", \"15\", \"16\", \"17\", \"18\", \"19\", \"20\", \"21\", \"22\", \"23\", \"24\", \"25\", \"26\", \"27\", \"28\", \"29\", \"30\", \"31\", \"32\", \"33\", \"34\", \"35\", \"36\", \"37\", \"38\", \"39\", \"40\", \"41\", \"42\"], \"mode\": \"markers\", \"name\": \"f1_score_macro\", \"stepped\": false, \"type\": \"scatter\", \"data\": [0.7296059530932721, 0.7082924268872045, 0.49530238928746567, 0.47775240484461123, 0.5564374833796455, 0.555713975976291, 0.6307942890747709, 0.47775240484461123, 0.6658152768469054, 0.7317271665735848, 0.47775240484461123, 0.7083178847904067, 0.6926093249059988, 0.7242583081291017, 0.6366014673018647, 0.5976075614024845, 0.47775240484461123, 0.47775240484461123, 0.6830528562305906, 0.5927523325522595, 0.6541963274984108, 0.47775240484461123, 0.47775240484461123, 0.47775240484461123, 0.7160845555829224, 0.47775240484461123, 0.6865692420257087, 0.5829802289630404, 0.7300688392864034, 0.7263284790234831, 0.47775240484461123, 0.7307665434071262, 0.6826622124389191, 0.7285089163485711, 0.7266189837272152, 0.47775240484461123, 0.7113850208177619, 0.7313529601906742, 0.6890102194453073, 0.6803138365061658, 0.713768926931867, 0.7324620310512515, 0.7302323087824495]}, {\"categories\": [\"0\", \"1\", \"2\", \"3\", \"4\", \"5\", \"6\", \"7\", \"8\", \"9\", \"10\", \"11\", \"12\", \"13\", \"14\", \"15\", \"16\", \"17\", \"18\", \"19\", \"20\", \"21\", \"22\", \"23\", \"24\", \"25\", \"26\", \"27\", \"28\", \"29\", \"30\", \"31\", \"32\", \"33\", \"34\", \"35\", \"36\", \"37\", \"38\", \"39\", \"40\", \"41\", \"42\"], \"mode\": \"lines\", \"name\": \"f1_score_macro_max\", \"stepped\": true, \"type\": \"scatter\", \"data\": [0.7296059530932721, 0.7296059530932721, 0.7296059530932721, 0.7296059530932721, 0.7296059530932721, 0.7296059530932721, 0.7296059530932721, 0.7296059530932721, 0.7296059530932721, 0.7317271665735848, 0.7317271665735848, 0.7317271665735848, 0.7317271665735848, 0.7317271665735848, 0.7317271665735848, 0.7317271665735848, 0.7317271665735848, 0.7317271665735848, 0.7317271665735848, 0.7317271665735848, 0.7317271665735848, 0.7317271665735848, 0.7317271665735848, 0.7317271665735848, 0.7317271665735848, 0.7317271665735848, 0.7317271665735848, 0.7317271665735848, 0.7317271665735848, 0.7317271665735848, 0.7317271665735848, 0.7317271665735848, 0.7317271665735848, 0.7317271665735848, 0.7317271665735848, 0.7317271665735848, 0.7317271665735848, 0.7317271665735848, 0.7317271665735848, 0.7317271665735848, 0.7317271665735848, 0.7324620310512515, 0.7324620310512515]}], \"average_precision_score_micro\": [{\"categories\": [\"0\", \"1\", \"2\", \"3\", \"4\", \"5\", \"6\", \"7\", \"8\", \"9\", \"10\", \"11\", \"12\", \"13\", \"14\", \"15\", \"16\", \"17\", \"18\", \"19\", \"20\", \"21\", \"22\", \"23\", \"24\", \"25\", \"26\", \"27\", \"28\", \"29\", \"30\", \"31\", \"32\", \"33\", \"34\", \"35\", \"36\", \"37\", \"38\", \"39\", \"40\", \"41\", \"42\"], \"mode\": \"markers\", \"name\": \"average_precision_score_micro\", \"stepped\": false, \"type\": \"scatter\", \"data\": [0.9808946164476644, 0.9793310166596211, 0.9676902365819888, 0.958296709037662, 0.8238756659826564, 0.8124999506202524, 0.9739065087271314, 0.9612599692222329, 0.9756379465600242, 0.9808590786429481, 0.9601336531582438, 0.9794283067118578, 0.9781868205148548, 0.9790164973595801, 0.9745848060492583, 0.9702876692269721, 0.9571741863853832, 0.9632135440079133, 0.9756795866183878, 0.9719835180033831, 0.974019962892475, 0.9596003055972637, 0.9592038767013185, 0.9598835443488076, 0.9781231496974735, 0.8794731762008526, 0.9757727652849276, 0.9727530625565354, 0.9802999946269173, 0.9788354234906308, 0.8794731762008526, 0.9801240149911639, 0.9768550821304608, 0.9799470191715454, 0.978540028454718, 0.8794731762008526, 0.9791937479215488, 0.9800578943877023, 0.9760995702269574, 0.9710379430960682, 0.9767410665876977, 0.9807199558955922, 0.9805533907541504]}, {\"categories\": [\"0\", \"1\", \"2\", \"3\", \"4\", \"5\", \"6\", \"7\", \"8\", \"9\", \"10\", \"11\", \"12\", \"13\", \"14\", \"15\", \"16\", \"17\", \"18\", \"19\", \"20\", \"21\", \"22\", \"23\", \"24\", \"25\", \"26\", \"27\", \"28\", \"29\", \"30\", \"31\", \"32\", \"33\", \"34\", \"35\", \"36\", \"37\", \"38\", \"39\", \"40\", \"41\", \"42\"], \"mode\": \"lines\", \"name\": \"average_precision_score_micro_max\", \"stepped\": true, \"type\": \"scatter\", \"data\": [0.9808946164476644, 0.9808946164476644, 0.9808946164476644, 0.9808946164476644, 0.9808946164476644, 0.9808946164476644, 0.9808946164476644, 0.9808946164476644, 0.9808946164476644, 0.9808946164476644, 0.9808946164476644, 0.9808946164476644, 0.9808946164476644, 0.9808946164476644, 0.9808946164476644, 0.9808946164476644, 0.9808946164476644, 0.9808946164476644, 0.9808946164476644, 0.9808946164476644, 0.9808946164476644, 0.9808946164476644, 0.9808946164476644, 0.9808946164476644, 0.9808946164476644, 0.9808946164476644, 0.9808946164476644, 0.9808946164476644, 0.9808946164476644, 0.9808946164476644, 0.9808946164476644, 0.9808946164476644, 0.9808946164476644, 0.9808946164476644, 0.9808946164476644, 0.9808946164476644, 0.9808946164476644, 0.9808946164476644, 0.9808946164476644, 0.9808946164476644, 0.9808946164476644, 0.9808946164476644, 0.9808946164476644]}], \"norm_macro_recall\": [{\"categories\": [\"0\", \"1\", \"2\", \"3\", \"4\", \"5\", \"6\", \"7\", \"8\", \"9\", \"10\", \"11\", \"12\", \"13\", \"14\", \"15\", \"16\", \"17\", \"18\", \"19\", \"20\", \"21\", \"22\", \"23\", \"24\", \"25\", \"26\", \"27\", \"28\", \"29\", \"30\", \"31\", \"32\", \"33\", \"34\", \"35\", \"36\", \"37\", \"38\", \"39\", \"40\", \"41\", \"42\"], \"mode\": \"markers\", \"name\": \"norm_macro_recall\", \"stepped\": false, \"type\": \"scatter\", \"data\": [0.33171619616208936, 0.29205766859733584, 0.018378578889628593, 0.0, 0.5062039999927185, 0.4686823258875127, 0.18010071357016533, 0.0, 0.22601797016255926, 0.33637900103363955, 0.0, 0.293272133660362, 0.2665450278571526, 0.3197566656840121, 0.18504839267848605, 0.1355592388350872, 0.0, 0.0, 0.2532876873279068, 0.12829958678594938, 0.20930252797922622, 0.0, 0.0, 0.0, 0.32255760145122664, 0.0, 0.263113581653871, 0.11668993898486013, 0.3353742929682309, 0.3462377324867493, 0.0, 0.3419321762137215, 0.2520835510598976, 0.3305777119369858, 0.3519315370678996, 0.0, 0.2993232909132359, 0.3458315646442992, 0.26546315238614293, 0.28558128703834396, 0.3336640429463046, 0.33333199561700105, 0.32934781116210465]}, {\"categories\": [\"0\", \"1\", \"2\", \"3\", \"4\", \"5\", \"6\", \"7\", \"8\", \"9\", \"10\", \"11\", \"12\", \"13\", \"14\", \"15\", \"16\", \"17\", \"18\", \"19\", \"20\", \"21\", \"22\", \"23\", \"24\", \"25\", \"26\", \"27\", \"28\", \"29\", \"30\", \"31\", \"32\", \"33\", \"34\", \"35\", \"36\", \"37\", \"38\", \"39\", \"40\", \"41\", \"42\"], \"mode\": \"lines\", \"name\": \"norm_macro_recall_max\", \"stepped\": true, \"type\": \"scatter\", \"data\": [0.33171619616208936, 0.33171619616208936, 0.33171619616208936, 0.33171619616208936, 0.5062039999927185, 0.5062039999927185, 0.5062039999927185, 0.5062039999927185, 0.5062039999927185, 0.5062039999927185, 0.5062039999927185, 0.5062039999927185, 0.5062039999927185, 0.5062039999927185, 0.5062039999927185, 0.5062039999927185, 0.5062039999927185, 0.5062039999927185, 0.5062039999927185, 0.5062039999927185, 0.5062039999927185, 0.5062039999927185, 0.5062039999927185, 0.5062039999927185, 0.5062039999927185, 0.5062039999927185, 0.5062039999927185, 0.5062039999927185, 0.5062039999927185, 0.5062039999927185, 0.5062039999927185, 0.5062039999927185, 0.5062039999927185, 0.5062039999927185, 0.5062039999927185, 0.5062039999927185, 0.5062039999927185, 0.5062039999927185, 0.5062039999927185, 0.5062039999927185, 0.5062039999927185, 0.5062039999927185, 0.5062039999927185]}], \"average_precision_score_macro\": [{\"categories\": [\"0\", \"1\", \"2\", \"3\", \"4\", \"5\", \"6\", \"7\", \"8\", \"9\", \"10\", \"11\", \"12\", \"13\", \"14\", \"15\", \"16\", \"17\", \"18\", \"19\", \"20\", \"21\", \"22\", \"23\", \"24\", \"25\", \"26\", \"27\", \"28\", \"29\", \"30\", \"31\", \"32\", \"33\", \"34\", \"35\", \"36\", \"37\", \"38\", \"39\", \"40\", \"41\", \"42\"], \"mode\": \"markers\", \"name\": \"average_precision_score_macro\", \"stepped\": false, \"type\": \"scatter\", \"data\": [0.7887456789623698, 0.7786019944675083, 0.6824412548649499, 0.5997518704247604, 0.6379654815102007, 0.6389876445076036, 0.7297887023392825, 0.6138314816179478, 0.7698128713018312, 0.78592057851146, 0.5954005054801109, 0.7775511627322559, 0.7727967635811704, 0.7836208262094977, 0.7391330234070199, 0.6892056528456338, 0.6038902314750134, 0.6405321636285983, 0.7617258121430385, 0.7060674945805416, 0.7408386992603908, 0.5986646839693607, 0.6299964281370525, 0.6209559827444869, 0.7681615233626907, 0.5, 0.7471100237424725, 0.7058652788569019, 0.7834997687641737, 0.7763706375759051, 0.5, 0.7818057532855842, 0.7561360301021829, 0.7810252890249827, 0.7744361570269133, 0.5, 0.7749171313337978, 0.7830557813070945, 0.7508165009255816, 0.7283701846324396, 0.764613555527051, 0.7869420402055544, 0.7871042805685232]}, {\"categories\": [\"0\", \"1\", \"2\", \"3\", \"4\", \"5\", \"6\", \"7\", \"8\", \"9\", \"10\", \"11\", \"12\", \"13\", \"14\", \"15\", \"16\", \"17\", \"18\", \"19\", \"20\", \"21\", \"22\", \"23\", \"24\", \"25\", \"26\", \"27\", \"28\", \"29\", \"30\", \"31\", \"32\", \"33\", \"34\", \"35\", \"36\", \"37\", \"38\", \"39\", \"40\", \"41\", \"42\"], \"mode\": \"lines\", \"name\": \"average_precision_score_macro_max\", \"stepped\": true, \"type\": \"scatter\", \"data\": [0.7887456789623698, 0.7887456789623698, 0.7887456789623698, 0.7887456789623698, 0.7887456789623698, 0.7887456789623698, 0.7887456789623698, 0.7887456789623698, 0.7887456789623698, 0.7887456789623698, 0.7887456789623698, 0.7887456789623698, 0.7887456789623698, 0.7887456789623698, 0.7887456789623698, 0.7887456789623698, 0.7887456789623698, 0.7887456789623698, 0.7887456789623698, 0.7887456789623698, 0.7887456789623698, 0.7887456789623698, 0.7887456789623698, 0.7887456789623698, 0.7887456789623698, 0.7887456789623698, 0.7887456789623698, 0.7887456789623698, 0.7887456789623698, 0.7887456789623698, 0.7887456789623698, 0.7887456789623698, 0.7887456789623698, 0.7887456789623698, 0.7887456789623698, 0.7887456789623698, 0.7887456789623698, 0.7887456789623698, 0.7887456789623698, 0.7887456789623698, 0.7887456789623698, 0.7887456789623698, 0.7887456789623698]}], \"recall_score_macro\": [{\"categories\": [\"0\", \"1\", \"2\", \"3\", \"4\", \"5\", \"6\", \"7\", \"8\", \"9\", \"10\", \"11\", \"12\", \"13\", \"14\", \"15\", \"16\", \"17\", \"18\", \"19\", \"20\", \"21\", \"22\", \"23\", \"24\", \"25\", \"26\", \"27\", \"28\", \"29\", \"30\", \"31\", \"32\", \"33\", \"34\", \"35\", \"36\", \"37\", \"38\", \"39\", \"40\", \"41\", \"42\"], \"mode\": \"markers\", \"name\": \"recall_score_macro\", \"stepped\": false, \"type\": \"scatter\", \"data\": [0.6658580980810447, 0.646028834298668, 0.5091892894448143, 0.5, 0.7531019999963593, 0.7343411629437563, 0.5900503567850827, 0.5, 0.6130089850812797, 0.6681895005168198, 0.5, 0.646636066830181, 0.6332725139285763, 0.659878332842006, 0.592524196339243, 0.5677796194175436, 0.5, 0.5, 0.6266438436639533, 0.5641497933929747, 0.6046512639896131, 0.5, 0.5, 0.5, 0.6612788007256134, 0.5, 0.6315567908269355, 0.5583449694924301, 0.6676871464841153, 0.6731188662433747, 0.5, 0.6709660881068608, 0.6260417755299488, 0.665288855968493, 0.6759657685339499, 0.5, 0.649661645456618, 0.6729157823221495, 0.6327315761930714, 0.642790643519172, 0.6668320214731522, 0.6666659978085006, 0.6646739055810523]}, {\"categories\": [\"0\", \"1\", \"2\", \"3\", \"4\", \"5\", \"6\", \"7\", \"8\", \"9\", \"10\", \"11\", \"12\", \"13\", \"14\", \"15\", \"16\", \"17\", \"18\", \"19\", \"20\", \"21\", \"22\", \"23\", \"24\", \"25\", \"26\", \"27\", \"28\", \"29\", \"30\", \"31\", \"32\", \"33\", \"34\", \"35\", \"36\", \"37\", \"38\", \"39\", \"40\", \"41\", \"42\"], \"mode\": \"lines\", \"name\": \"recall_score_macro_max\", \"stepped\": true, \"type\": \"scatter\", \"data\": [0.6658580980810447, 0.6658580980810447, 0.6658580980810447, 0.6658580980810447, 0.7531019999963593, 0.7531019999963593, 0.7531019999963593, 0.7531019999963593, 0.7531019999963593, 0.7531019999963593, 0.7531019999963593, 0.7531019999963593, 0.7531019999963593, 0.7531019999963593, 0.7531019999963593, 0.7531019999963593, 0.7531019999963593, 0.7531019999963593, 0.7531019999963593, 0.7531019999963593, 0.7531019999963593, 0.7531019999963593, 0.7531019999963593, 0.7531019999963593, 0.7531019999963593, 0.7531019999963593, 0.7531019999963593, 0.7531019999963593, 0.7531019999963593, 0.7531019999963593, 0.7531019999963593, 0.7531019999963593, 0.7531019999963593, 0.7531019999963593, 0.7531019999963593, 0.7531019999963593, 0.7531019999963593, 0.7531019999963593, 0.7531019999963593, 0.7531019999963593, 0.7531019999963593, 0.7531019999963593, 0.7531019999963593]}], \"recall_score_micro\": [{\"categories\": [\"0\", \"1\", \"2\", \"3\", \"4\", \"5\", \"6\", \"7\", \"8\", \"9\", \"10\", \"11\", \"12\", \"13\", \"14\", \"15\", \"16\", \"17\", \"18\", \"19\", \"20\", \"21\", \"22\", \"23\", \"24\", \"25\", \"26\", \"27\", \"28\", \"29\", \"30\", \"31\", \"32\", \"33\", \"34\", \"35\", \"36\", \"37\", \"38\", \"39\", \"40\", \"41\", \"42\"], \"mode\": \"markers\", \"name\": \"recall_score_micro\", \"stepped\": false, \"type\": \"scatter\", \"data\": [0.9409061438613744, 0.938783272932666, 0.9161619515949575, 0.9148046975098193, 0.690053612923306, 0.6975015279086575, 0.9272986508313694, 0.9148046975098193, 0.933319377091733, 0.9409757635621692, 0.9148046975098193, 0.9384352773895379, 0.9367647861312468, 0.9406973634937547, 0.9295259603960504, 0.9229832105383938, 0.9148046975098193, 0.9148046975098193, 0.9350247296808438, 0.9235400470143444, 0.9318577146532239, 0.9148046975098193, 0.9148046975098193, 0.9148046975098193, 0.9355814813655103, 0.9148046975098193, 0.934050181056646, 0.9215911193485171, 0.9403492952723832, 0.9360686557450244, 0.9148046975098193, 0.9393400730694947, 0.9351290895820522, 0.9405233354395893, 0.9349549949061636, 0.9148046975098193, 0.9385744501694038, 0.9388529108030212, 0.9348506471179958, 0.9227047801873779, 0.9316488797769213, 0.9419850463302606, 0.9417066280922851]}, {\"categories\": [\"0\", \"1\", \"2\", \"3\", \"4\", \"5\", \"6\", \"7\", \"8\", \"9\", \"10\", \"11\", \"12\", \"13\", \"14\", \"15\", \"16\", \"17\", \"18\", \"19\", \"20\", \"21\", \"22\", \"23\", \"24\", \"25\", \"26\", \"27\", \"28\", \"29\", \"30\", \"31\", \"32\", \"33\", \"34\", \"35\", \"36\", \"37\", \"38\", \"39\", \"40\", \"41\", \"42\"], \"mode\": \"lines\", \"name\": \"recall_score_micro_max\", \"stepped\": true, \"type\": \"scatter\", \"data\": [0.9409061438613744, 0.9409061438613744, 0.9409061438613744, 0.9409061438613744, 0.9409061438613744, 0.9409061438613744, 0.9409061438613744, 0.9409061438613744, 0.9409061438613744, 0.9409757635621692, 0.9409757635621692, 0.9409757635621692, 0.9409757635621692, 0.9409757635621692, 0.9409757635621692, 0.9409757635621692, 0.9409757635621692, 0.9409757635621692, 0.9409757635621692, 0.9409757635621692, 0.9409757635621692, 0.9409757635621692, 0.9409757635621692, 0.9409757635621692, 0.9409757635621692, 0.9409757635621692, 0.9409757635621692, 0.9409757635621692, 0.9409757635621692, 0.9409757635621692, 0.9409757635621692, 0.9409757635621692, 0.9409757635621692, 0.9409757635621692, 0.9409757635621692, 0.9409757635621692, 0.9409757635621692, 0.9409757635621692, 0.9409757635621692, 0.9409757635621692, 0.9409757635621692, 0.9419850463302606, 0.9419850463302606]}], \"AUC_macro\": [{\"categories\": [\"0\", \"1\", \"2\", \"3\", \"4\", \"5\", \"6\", \"7\", \"8\", \"9\", \"10\", \"11\", \"12\", \"13\", \"14\", \"15\", \"16\", \"17\", \"18\", \"19\", \"20\", \"21\", \"22\", \"23\", \"24\", \"25\", \"26\", \"27\", \"28\", \"29\", \"30\", \"31\", \"32\", \"33\", \"34\", \"35\", \"36\", \"37\", \"38\", \"39\", \"40\", \"41\", \"42\"], \"mode\": \"markers\", \"name\": \"AUC_macro\", \"stepped\": false, \"type\": \"scatter\", \"data\": [0.8984647802368209, 0.8939714830401101, 0.8357336109825624, 0.782618707086593, 0.8174120044498034, 0.8029339798209655, 0.869297995503205, 0.7944500052155752, 0.880798746434284, 0.8971823993126161, 0.7870270232379803, 0.892376062505454, 0.8895139013237374, 0.8938111041541126, 0.873690510355587, 0.8478466789433421, 0.7777717347406053, 0.8085982181465973, 0.8806192653432611, 0.8583882450554523, 0.868522460596003, 0.7827130114768192, 0.7852236286620693, 0.7892880062901317, 0.8840226136184572, 0.5, 0.8689884882450496, 0.8643511987412132, 0.8946903090541485, 0.8876783367901409, 0.5, 0.8928631301850999, 0.8765191386796264, 0.8934427593348472, 0.885593072406712, 0.5, 0.8907766226172201, 0.8933191585373642, 0.8718151340124324, 0.8486685067623754, 0.8777931283695924, 0.8983718587306664, 0.8984110137142499]}, {\"categories\": [\"0\", \"1\", \"2\", \"3\", \"4\", \"5\", \"6\", \"7\", \"8\", \"9\", \"10\", \"11\", \"12\", \"13\", \"14\", \"15\", \"16\", \"17\", \"18\", \"19\", \"20\", \"21\", \"22\", \"23\", \"24\", \"25\", \"26\", \"27\", \"28\", \"29\", \"30\", \"31\", \"32\", \"33\", \"34\", \"35\", \"36\", \"37\", \"38\", \"39\", \"40\", \"41\", \"42\"], \"mode\": \"lines\", \"name\": \"AUC_macro_max\", \"stepped\": true, \"type\": \"scatter\", \"data\": [0.8984647802368209, 0.8984647802368209, 0.8984647802368209, 0.8984647802368209, 0.8984647802368209, 0.8984647802368209, 0.8984647802368209, 0.8984647802368209, 0.8984647802368209, 0.8984647802368209, 0.8984647802368209, 0.8984647802368209, 0.8984647802368209, 0.8984647802368209, 0.8984647802368209, 0.8984647802368209, 0.8984647802368209, 0.8984647802368209, 0.8984647802368209, 0.8984647802368209, 0.8984647802368209, 0.8984647802368209, 0.8984647802368209, 0.8984647802368209, 0.8984647802368209, 0.8984647802368209, 0.8984647802368209, 0.8984647802368209, 0.8984647802368209, 0.8984647802368209, 0.8984647802368209, 0.8984647802368209, 0.8984647802368209, 0.8984647802368209, 0.8984647802368209, 0.8984647802368209, 0.8984647802368209, 0.8984647802368209, 0.8984647802368209, 0.8984647802368209, 0.8984647802368209, 0.8984647802368209, 0.8984647802368209]}], \"f1_score_weighted\": [{\"categories\": [\"0\", \"1\", \"2\", \"3\", \"4\", \"5\", \"6\", \"7\", \"8\", \"9\", \"10\", \"11\", \"12\", \"13\", \"14\", \"15\", \"16\", \"17\", \"18\", \"19\", \"20\", \"21\", \"22\", \"23\", \"24\", \"25\", \"26\", \"27\", \"28\", \"29\", \"30\", \"31\", \"32\", \"33\", \"34\", \"35\", \"36\", \"37\", \"38\", \"39\", \"40\", \"41\", \"42\"], \"mode\": \"markers\", \"name\": \"f1_score_weighted\", \"stepped\": false, \"type\": \"scatter\", \"data\": [0.9278958975708825, 0.9233908068601089, 0.8775058633337978, 0.8741045853304159, 0.7584178188691136, 0.7639009036324578, 0.9051940696794795, 0.8741045853304159, 0.9138422375079923, 0.9282617357124103, 0.8741045853304159, 0.9232200752139766, 0.9198610492445315, 0.9269077801669493, 0.9072309154976755, 0.897858606793099, 0.8741045853304159, 0.8741045853304159, 0.9174573709124838, 0.8972212761881373, 0.9112366119205486, 0.8741045853304159, 0.8741045853304159, 0.8741045853304159, 0.9231831885751284, 0.8741045853304159, 0.9176111062919607, 0.8946894729420926, 0.9276960315168754, 0.925071741253309, 0.8741045853304159, 0.9273495337833217, 0.9174606196330402, 0.9275336894541777, 0.9245933508659994, 0.8741045853304159, 0.9237916191129125, 0.9272156248483124, 0.9183820878561028, 0.9112142110840982, 0.9209249044352521, 0.928863157899077, 0.9283647566563957]}, {\"categories\": [\"0\", \"1\", \"2\", \"3\", \"4\", \"5\", \"6\", \"7\", \"8\", \"9\", \"10\", \"11\", \"12\", \"13\", \"14\", \"15\", \"16\", \"17\", \"18\", \"19\", \"20\", \"21\", \"22\", \"23\", \"24\", \"25\", \"26\", \"27\", \"28\", \"29\", \"30\", \"31\", \"32\", \"33\", \"34\", \"35\", \"36\", \"37\", \"38\", \"39\", \"40\", \"41\", \"42\"], \"mode\": \"lines\", \"name\": \"f1_score_weighted_max\", \"stepped\": true, \"type\": \"scatter\", \"data\": [0.9278958975708825, 0.9278958975708825, 0.9278958975708825, 0.9278958975708825, 0.9278958975708825, 0.9278958975708825, 0.9278958975708825, 0.9278958975708825, 0.9278958975708825, 0.9282617357124103, 0.9282617357124103, 0.9282617357124103, 0.9282617357124103, 0.9282617357124103, 0.9282617357124103, 0.9282617357124103, 0.9282617357124103, 0.9282617357124103, 0.9282617357124103, 0.9282617357124103, 0.9282617357124103, 0.9282617357124103, 0.9282617357124103, 0.9282617357124103, 0.9282617357124103, 0.9282617357124103, 0.9282617357124103, 0.9282617357124103, 0.9282617357124103, 0.9282617357124103, 0.9282617357124103, 0.9282617357124103, 0.9282617357124103, 0.9282617357124103, 0.9282617357124103, 0.9282617357124103, 0.9282617357124103, 0.9282617357124103, 0.9282617357124103, 0.9282617357124103, 0.9282617357124103, 0.928863157899077, 0.928863157899077]}], \"average_precision_score_weighted\": [{\"categories\": [\"0\", \"1\", \"2\", \"3\", \"4\", \"5\", \"6\", \"7\", \"8\", \"9\", \"10\", \"11\", \"12\", \"13\", \"14\", \"15\", \"16\", \"17\", \"18\", \"19\", \"20\", \"21\", \"22\", \"23\", \"24\", \"25\", \"26\", \"27\", \"28\", \"29\", \"30\", \"31\", \"32\", \"33\", \"34\", \"35\", \"36\", \"37\", \"38\", \"39\", \"40\", \"41\", \"42\"], \"mode\": \"markers\", \"name\": \"average_precision_score_weighted\", \"stepped\": false, \"type\": \"scatter\", \"data\": [0.9553234912615846, 0.9530711116183272, 0.9308889631845918, 0.9105343052221759, 0.9218622158379974, 0.9199433255212363, 0.9424469192755728, 0.9152574985969899, 0.9502841584725813, 0.9547449349809318, 0.9115159378616531, 0.9528494077615395, 0.9517569621207217, 0.9531968227651889, 0.944487186015604, 0.9333206754014618, 0.9104953608219976, 0.920828505115115, 0.9484805273425753, 0.9373010454535017, 0.9440159626816875, 0.9117230472579048, 0.916351957976026, 0.9153845956542914, 0.9504305487925292, 0.8441416548918859, 0.9454263579768669, 0.9379503611912124, 0.9541054427882504, 0.9521532351229288, 0.8441416548918859, 0.9536401981684621, 0.9476772083492643, 0.9535513888659022, 0.9516824785481989, 0.8441416548918859, 0.9522605449493092, 0.9538749153442321, 0.9463352230565449, 0.9400408131775837, 0.9491444131070951, 0.9550492483732598, 0.9550796032070543]}, {\"categories\": [\"0\", \"1\", \"2\", \"3\", \"4\", \"5\", \"6\", \"7\", \"8\", \"9\", \"10\", \"11\", \"12\", \"13\", \"14\", \"15\", \"16\", \"17\", \"18\", \"19\", \"20\", \"21\", \"22\", \"23\", \"24\", \"25\", \"26\", \"27\", \"28\", \"29\", \"30\", \"31\", \"32\", \"33\", \"34\", \"35\", \"36\", \"37\", \"38\", \"39\", \"40\", \"41\", \"42\"], \"mode\": \"lines\", \"name\": \"average_precision_score_weighted_max\", \"stepped\": true, \"type\": \"scatter\", \"data\": [0.9553234912615846, 0.9553234912615846, 0.9553234912615846, 0.9553234912615846, 0.9553234912615846, 0.9553234912615846, 0.9553234912615846, 0.9553234912615846, 0.9553234912615846, 0.9553234912615846, 0.9553234912615846, 0.9553234912615846, 0.9553234912615846, 0.9553234912615846, 0.9553234912615846, 0.9553234912615846, 0.9553234912615846, 0.9553234912615846, 0.9553234912615846, 0.9553234912615846, 0.9553234912615846, 0.9553234912615846, 0.9553234912615846, 0.9553234912615846, 0.9553234912615846, 0.9553234912615846, 0.9553234912615846, 0.9553234912615846, 0.9553234912615846, 0.9553234912615846, 0.9553234912615846, 0.9553234912615846, 0.9553234912615846, 0.9553234912615846, 0.9553234912615846, 0.9553234912615846, 0.9553234912615846, 0.9553234912615846, 0.9553234912615846, 0.9553234912615846, 0.9553234912615846, 0.9553234912615846, 0.9553234912615846]}], \"log_loss\": [{\"categories\": [\"0\", \"1\", \"2\", \"3\", \"4\", \"5\", \"6\", \"7\", \"8\", \"9\", \"10\", \"11\", \"12\", \"13\", \"14\", \"15\", \"16\", \"17\", \"18\", \"19\", \"20\", \"21\", \"22\", \"23\", \"24\", \"25\", \"26\", \"27\", \"28\", \"29\", \"30\", \"31\", \"32\", \"33\", \"34\", \"35\", \"36\", \"37\", \"38\", \"39\", \"40\", \"41\", \"42\"], \"mode\": \"markers\", \"name\": \"log_loss\", \"stepped\": false, \"type\": \"scatter\", \"data\": [0.1694027560343711, 0.17950196974404345, 0.23700486795692247, 0.26315989626575864, 0.5586520070511598, 0.5835910155094948, 0.2036672545641348, 0.24522410401562417, 0.20794203719295073, 0.16984134756072078, 0.2589866746309652, 0.1775379667001366, 0.1885940050408485, 0.19501307672760446, 0.20151619479077784, 0.2215702771238889, 0.2710875322547754, 0.25373741185389576, 0.31927313041205857, 0.2141266905212961, 0.20119687463686603, 0.24752920622262406, 0.25622570866155014, 0.26584098186753985, 0.18920835961095137, 0.2913391548054341, 0.19249829796920936, 0.21257182509452016, 0.1739527579731219, 0.189483464909397, 0.29134046149263065, 0.17653276911455565, 0.1873098672614238, 0.17501755062540364, 0.19653800501511612, 0.2913080729341523, 0.17904721116660027, 0.17811028959395753, 0.19119062574458626, 0.23467578353905982, 0.210530985001264, 0.17254654798093447, 0.19427085400057129]}, {\"categories\": [\"0\", \"1\", \"2\", \"3\", \"4\", \"5\", \"6\", \"7\", \"8\", \"9\", \"10\", \"11\", \"12\", \"13\", \"14\", \"15\", \"16\", \"17\", \"18\", \"19\", \"20\", \"21\", \"22\", \"23\", \"24\", \"25\", \"26\", \"27\", \"28\", \"29\", \"30\", \"31\", \"32\", \"33\", \"34\", \"35\", \"36\", \"37\", \"38\", \"39\", \"40\", \"41\", \"42\"], \"mode\": \"lines\", \"name\": \"log_loss_min\", \"stepped\": true, \"type\": \"scatter\", \"data\": [0.1694027560343711, 0.1694027560343711, 0.1694027560343711, 0.1694027560343711, 0.1694027560343711, 0.1694027560343711, 0.1694027560343711, 0.1694027560343711, 0.1694027560343711, 0.1694027560343711, 0.1694027560343711, 0.1694027560343711, 0.1694027560343711, 0.1694027560343711, 0.1694027560343711, 0.1694027560343711, 0.1694027560343711, 0.1694027560343711, 0.1694027560343711, 0.1694027560343711, 0.1694027560343711, 0.1694027560343711, 0.1694027560343711, 0.1694027560343711, 0.1694027560343711, 0.1694027560343711, 0.1694027560343711, 0.1694027560343711, 0.1694027560343711, 0.1694027560343711, 0.1694027560343711, 0.1694027560343711, 0.1694027560343711, 0.1694027560343711, 0.1694027560343711, 0.1694027560343711, 0.1694027560343711, 0.1694027560343711, 0.1694027560343711, 0.1694027560343711, 0.1694027560343711, 0.1694027560343711, 0.1694027560343711]}], \"f1_score_micro\": [{\"categories\": [\"0\", \"1\", \"2\", \"3\", \"4\", \"5\", \"6\", \"7\", \"8\", \"9\", \"10\", \"11\", \"12\", \"13\", \"14\", \"15\", \"16\", \"17\", \"18\", \"19\", \"20\", \"21\", \"22\", \"23\", \"24\", \"25\", \"26\", \"27\", \"28\", \"29\", \"30\", \"31\", \"32\", \"33\", \"34\", \"35\", \"36\", \"37\", \"38\", \"39\", \"40\", \"41\", \"42\"], \"mode\": \"markers\", \"name\": \"f1_score_micro\", \"stepped\": false, \"type\": \"scatter\", \"data\": [0.9409061438613744, 0.938783272932666, 0.9161619515949575, 0.9148046975098193, 0.690053612923306, 0.6975015279086575, 0.9272986508313693, 0.9148046975098193, 0.933319377091733, 0.9409757635621692, 0.9148046975098193, 0.9384352773895379, 0.9367647861312468, 0.9406973634937547, 0.9295259603960504, 0.9229832105383938, 0.9148046975098193, 0.9148046975098193, 0.9350247296808438, 0.9235400470143444, 0.9318577146532239, 0.9148046975098193, 0.9148046975098193, 0.9148046975098193, 0.9355814813655103, 0.9148046975098193, 0.934050181056646, 0.9215911193485171, 0.9403492952723832, 0.9360686557450244, 0.9148046975098193, 0.9393400730694947, 0.9351290895820522, 0.9405233354395893, 0.9349549949061636, 0.9148046975098193, 0.9385744501694038, 0.9388529108030212, 0.9348506471179958, 0.9227047801873779, 0.9316488797769213, 0.9419850463302606, 0.9417066280922851]}, {\"categories\": [\"0\", \"1\", \"2\", \"3\", \"4\", \"5\", \"6\", \"7\", \"8\", \"9\", \"10\", \"11\", \"12\", \"13\", \"14\", \"15\", \"16\", \"17\", \"18\", \"19\", \"20\", \"21\", \"22\", \"23\", \"24\", \"25\", \"26\", \"27\", \"28\", \"29\", \"30\", \"31\", \"32\", \"33\", \"34\", \"35\", \"36\", \"37\", \"38\", \"39\", \"40\", \"41\", \"42\"], \"mode\": \"lines\", \"name\": \"f1_score_micro_max\", \"stepped\": true, \"type\": \"scatter\", \"data\": [0.9409061438613744, 0.9409061438613744, 0.9409061438613744, 0.9409061438613744, 0.9409061438613744, 0.9409061438613744, 0.9409061438613744, 0.9409061438613744, 0.9409061438613744, 0.9409757635621692, 0.9409757635621692, 0.9409757635621692, 0.9409757635621692, 0.9409757635621692, 0.9409757635621692, 0.9409757635621692, 0.9409757635621692, 0.9409757635621692, 0.9409757635621692, 0.9409757635621692, 0.9409757635621692, 0.9409757635621692, 0.9409757635621692, 0.9409757635621692, 0.9409757635621692, 0.9409757635621692, 0.9409757635621692, 0.9409757635621692, 0.9409757635621692, 0.9409757635621692, 0.9409757635621692, 0.9409757635621692, 0.9409757635621692, 0.9409757635621692, 0.9409757635621692, 0.9409757635621692, 0.9409757635621692, 0.9409757635621692, 0.9409757635621692, 0.9409757635621692, 0.9409757635621692, 0.9419850463302606, 0.9419850463302606]}], \"matthews_correlation\": [{\"categories\": [\"0\", \"1\", \"2\", \"3\", \"4\", \"5\", \"6\", \"7\", \"8\", \"9\", \"10\", \"11\", \"12\", \"13\", \"14\", \"15\", \"16\", \"17\", \"18\", \"19\", \"20\", \"21\", \"22\", \"23\", \"24\", \"25\", \"26\", \"27\", \"28\", \"29\", \"30\", \"31\", \"32\", \"33\", \"34\", \"35\", \"36\", \"37\", \"38\", \"39\", \"40\", \"41\", \"42\"], \"mode\": \"markers\", \"name\": \"matthews_correlation\", \"stepped\": false, \"type\": \"scatter\", \"data\": [0.5354618170830198, 0.5125136889950876, 0.07796339118581039, 0.0, 0.2932821995456116, 0.27432163773714924, 0.3707020144906311, 0.0, 0.4489939034438667, 0.5365528726330308, 0.0, 0.5087432293643555, 0.49013177936022423, 0.5333664611060547, 0.3997390569770936, 0.3050010646848578, 0.0, 0.0, 0.4695165684509277, 0.3096329610390118, 0.43046004778929403, 0.0, 0.0, 0.0, 0.48635384601533305, 0.0, 0.4599062846962812, 0.2807348640076587, 0.5304508017367888, 0.49681171954930614, 0.0, 0.5218435261321647, 0.47101955685632496, 0.531706312952988, 0.49083877914997986, 0.0, 0.5103666796679964, 0.5183962301834489, 0.46835390411100936, 0.3880928141505037, 0.4623042154837177, 0.5468514171292107, 0.5439550511701922]}, {\"categories\": [\"0\", \"1\", \"2\", \"3\", \"4\", \"5\", \"6\", \"7\", \"8\", \"9\", \"10\", \"11\", \"12\", \"13\", \"14\", \"15\", \"16\", \"17\", \"18\", \"19\", \"20\", \"21\", \"22\", \"23\", \"24\", \"25\", \"26\", \"27\", \"28\", \"29\", \"30\", \"31\", \"32\", \"33\", \"34\", \"35\", \"36\", \"37\", \"38\", \"39\", \"40\", \"41\", \"42\"], \"mode\": \"lines\", \"name\": \"matthews_correlation_max\", \"stepped\": true, \"type\": \"scatter\", \"data\": [0.5354618170830198, 0.5354618170830198, 0.5354618170830198, 0.5354618170830198, 0.5354618170830198, 0.5354618170830198, 0.5354618170830198, 0.5354618170830198, 0.5354618170830198, 0.5365528726330308, 0.5365528726330308, 0.5365528726330308, 0.5365528726330308, 0.5365528726330308, 0.5365528726330308, 0.5365528726330308, 0.5365528726330308, 0.5365528726330308, 0.5365528726330308, 0.5365528726330308, 0.5365528726330308, 0.5365528726330308, 0.5365528726330308, 0.5365528726330308, 0.5365528726330308, 0.5365528726330308, 0.5365528726330308, 0.5365528726330308, 0.5365528726330308, 0.5365528726330308, 0.5365528726330308, 0.5365528726330308, 0.5365528726330308, 0.5365528726330308, 0.5365528726330308, 0.5365528726330308, 0.5365528726330308, 0.5365528726330308, 0.5365528726330308, 0.5365528726330308, 0.5365528726330308, 0.5468514171292107, 0.5468514171292107]}], \"AUC_micro\": [{\"categories\": [\"0\", \"1\", \"2\", \"3\", \"4\", \"5\", \"6\", \"7\", \"8\", \"9\", \"10\", \"11\", \"12\", \"13\", \"14\", \"15\", \"16\", \"17\", \"18\", \"19\", \"20\", \"21\", \"22\", \"23\", \"24\", \"25\", \"26\", \"27\", \"28\", \"29\", \"30\", \"31\", \"32\", \"33\", \"34\", \"35\", \"36\", \"37\", \"38\", \"39\", \"40\", \"41\", \"42\"], \"mode\": \"markers\", \"name\": \"AUC_micro\", \"stepped\": false, \"type\": \"scatter\", \"data\": [0.9802483320652964, 0.9787452322749484, 0.9671278233229058, 0.9587724009663947, 0.8093913390707126, 0.80311482752188, 0.9731651047932285, 0.9606715198781188, 0.9749352398884341, 0.9801831021049727, 0.9595139963453192, 0.9787266376997218, 0.9774571503865765, 0.9793509056629777, 0.9738168186772471, 0.9698778099856942, 0.9580778209987988, 0.9628806632753557, 0.9754856710204638, 0.971274574013183, 0.9736868570486061, 0.9588416712829531, 0.9592466362849151, 0.9598765551202858, 0.9774114081195417, 0.9148046975098193, 0.9750275903331254, 0.9719610075060781, 0.9795971149724612, 0.9781564226097468, 0.9148046975098193, 0.9794278963588183, 0.97611564530464, 0.9792574973099603, 0.9778064788113277, 0.9148046975098193, 0.9784670437568442, 0.9793857023909134, 0.9753470565992913, 0.970350397589456, 0.976063427674027, 0.9800222531176882, 0.9798569289726016]}, {\"categories\": [\"0\", \"1\", \"2\", \"3\", \"4\", \"5\", \"6\", \"7\", \"8\", \"9\", \"10\", \"11\", \"12\", \"13\", \"14\", \"15\", \"16\", \"17\", \"18\", \"19\", \"20\", \"21\", \"22\", \"23\", \"24\", \"25\", \"26\", \"27\", \"28\", \"29\", \"30\", \"31\", \"32\", \"33\", \"34\", \"35\", \"36\", \"37\", \"38\", \"39\", \"40\", \"41\", \"42\"], \"mode\": \"lines\", \"name\": \"AUC_micro_max\", \"stepped\": true, \"type\": \"scatter\", \"data\": [0.9802483320652964, 0.9802483320652964, 0.9802483320652964, 0.9802483320652964, 0.9802483320652964, 0.9802483320652964, 0.9802483320652964, 0.9802483320652964, 0.9802483320652964, 0.9802483320652964, 0.9802483320652964, 0.9802483320652964, 0.9802483320652964, 0.9802483320652964, 0.9802483320652964, 0.9802483320652964, 0.9802483320652964, 0.9802483320652964, 0.9802483320652964, 0.9802483320652964, 0.9802483320652964, 0.9802483320652964, 0.9802483320652964, 0.9802483320652964, 0.9802483320652964, 0.9802483320652964, 0.9802483320652964, 0.9802483320652964, 0.9802483320652964, 0.9802483320652964, 0.9802483320652964, 0.9802483320652964, 0.9802483320652964, 0.9802483320652964, 0.9802483320652964, 0.9802483320652964, 0.9802483320652964, 0.9802483320652964, 0.9802483320652964, 0.9802483320652964, 0.9802483320652964, 0.9802483320652964, 0.9802483320652964]}], \"accuracy\": [{\"categories\": [\"0\", \"1\", \"2\", \"3\", \"4\", \"5\", \"6\", \"7\", \"8\", \"9\", \"10\", \"11\", \"12\", \"13\", \"14\", \"15\", \"16\", \"17\", \"18\", \"19\", \"20\", \"21\", \"22\", \"23\", \"24\", \"25\", \"26\", \"27\", \"28\", \"29\", \"30\", \"31\", \"32\", \"33\", \"34\", \"35\", \"36\", \"37\", \"38\", \"39\", \"40\", \"41\", \"42\"], \"mode\": \"markers\", \"name\": \"accuracy\", \"stepped\": false, \"type\": \"scatter\", \"data\": [0.9409061438613744, 0.938783272932666, 0.9161619515949575, 0.9148046975098193, 0.690053612923306, 0.6975015279086575, 0.9272986508313694, 0.9148046975098193, 0.933319377091733, 0.9409757635621692, 0.9148046975098193, 0.9384352773895379, 0.9367647861312468, 0.9406973634937547, 0.9295259603960504, 0.9229832105383938, 0.9148046975098193, 0.9148046975098193, 0.9350247296808438, 0.9235400470143444, 0.9318577146532239, 0.9148046975098193, 0.9148046975098193, 0.9148046975098193, 0.9355814813655103, 0.9148046975098193, 0.934050181056646, 0.9215911193485171, 0.9403492952723832, 0.9360686557450244, 0.9148046975098193, 0.9393400730694947, 0.9351290895820522, 0.9405233354395893, 0.9349549949061636, 0.9148046975098193, 0.9385744501694038, 0.9388529108030212, 0.9348506471179958, 0.9227047801873779, 0.9316488797769213, 0.9419850463302606, 0.9417066280922851]}, {\"categories\": [\"0\", \"1\", \"2\", \"3\", \"4\", \"5\", \"6\", \"7\", \"8\", \"9\", \"10\", \"11\", \"12\", \"13\", \"14\", \"15\", \"16\", \"17\", \"18\", \"19\", \"20\", \"21\", \"22\", \"23\", \"24\", \"25\", \"26\", \"27\", \"28\", \"29\", \"30\", \"31\", \"32\", \"33\", \"34\", \"35\", \"36\", \"37\", \"38\", \"39\", \"40\", \"41\", \"42\"], \"mode\": \"lines\", \"name\": \"accuracy_max\", \"stepped\": true, \"type\": \"scatter\", \"data\": [0.9409061438613744, 0.9409061438613744, 0.9409061438613744, 0.9409061438613744, 0.9409061438613744, 0.9409061438613744, 0.9409061438613744, 0.9409061438613744, 0.9409061438613744, 0.9409757635621692, 0.9409757635621692, 0.9409757635621692, 0.9409757635621692, 0.9409757635621692, 0.9409757635621692, 0.9409757635621692, 0.9409757635621692, 0.9409757635621692, 0.9409757635621692, 0.9409757635621692, 0.9409757635621692, 0.9409757635621692, 0.9409757635621692, 0.9409757635621692, 0.9409757635621692, 0.9409757635621692, 0.9409757635621692, 0.9409757635621692, 0.9409757635621692, 0.9409757635621692, 0.9409757635621692, 0.9409757635621692, 0.9409757635621692, 0.9409757635621692, 0.9409757635621692, 0.9409757635621692, 0.9409757635621692, 0.9409757635621692, 0.9409757635621692, 0.9409757635621692, 0.9409757635621692, 0.9419850463302606, 0.9419850463302606]}], \"precision_score_weighted\": [{\"categories\": [\"0\", \"1\", \"2\", \"3\", \"4\", \"5\", \"6\", \"7\", \"8\", \"9\", \"10\", \"11\", \"12\", \"13\", \"14\", \"15\", \"16\", \"17\", \"18\", \"19\", \"20\", \"21\", \"22\", \"23\", \"24\", \"25\", \"26\", \"27\", \"28\", \"29\", \"30\", \"31\", \"32\", \"33\", \"34\", \"35\", \"36\", \"37\", \"38\", \"39\", \"40\", \"41\", \"42\"], \"mode\": \"markers\", \"name\": \"precision_score_weighted\", \"stepped\": false, \"type\": \"scatter\", \"data\": [0.9399694259242771, 0.9402255738881283, 0.8844679263679053, 0.8368755249557622, 0.9102273934455705, 0.9044973631337753, 0.9213297526756801, 0.8368755249557622, 0.9350702278811692, 0.9395129699282233, 0.8368755249557622, 0.9388227939225124, 0.9386103460086848, 0.941261037071993, 0.9299837110395602, 0.911919110504501, 0.8368755249557622, 0.8368755249557622, 0.9350287683715036, 0.9162872539855969, 0.933396346810737, 0.8368755249557622, 0.8368755249557622, 0.8368755249557622, 0.9282953045002567, 0.8368755249557622, 0.9301651453712203, 0.9096701569109896, 0.938071958530988, 0.9282277133494018, 0.8368755249557622, 0.9349402693608188, 0.9357635737632913, 0.9390662463467159, 0.9261901195554276, 0.8368755249557622, 0.938160782606644, 0.9335874916264981, 0.9321426743133087, 0.9084050104271671, 0.9212534899399761, 0.942806221166815, 0.9426595685537615]}, {\"categories\": [\"0\", \"1\", \"2\", \"3\", \"4\", \"5\", \"6\", \"7\", \"8\", \"9\", \"10\", \"11\", \"12\", \"13\", \"14\", \"15\", \"16\", \"17\", \"18\", \"19\", \"20\", \"21\", \"22\", \"23\", \"24\", \"25\", \"26\", \"27\", \"28\", \"29\", \"30\", \"31\", \"32\", \"33\", \"34\", \"35\", \"36\", \"37\", \"38\", \"39\", \"40\", \"41\", \"42\"], \"mode\": \"lines\", \"name\": \"precision_score_weighted_max\", \"stepped\": true, \"type\": \"scatter\", \"data\": [0.9399694259242771, 0.9402255738881283, 0.9402255738881283, 0.9402255738881283, 0.9402255738881283, 0.9402255738881283, 0.9402255738881283, 0.9402255738881283, 0.9402255738881283, 0.9402255738881283, 0.9402255738881283, 0.9402255738881283, 0.9402255738881283, 0.941261037071993, 0.941261037071993, 0.941261037071993, 0.941261037071993, 0.941261037071993, 0.941261037071993, 0.941261037071993, 0.941261037071993, 0.941261037071993, 0.941261037071993, 0.941261037071993, 0.941261037071993, 0.941261037071993, 0.941261037071993, 0.941261037071993, 0.941261037071993, 0.941261037071993, 0.941261037071993, 0.941261037071993, 0.941261037071993, 0.941261037071993, 0.941261037071993, 0.941261037071993, 0.941261037071993, 0.941261037071993, 0.941261037071993, 0.941261037071993, 0.941261037071993, 0.942806221166815, 0.942806221166815]}], \"weighted_accuracy\": [{\"categories\": [\"0\", \"1\", \"2\", \"3\", \"4\", \"5\", \"6\", \"7\", \"8\", \"9\", \"10\", \"11\", \"12\", \"13\", \"14\", \"15\", \"16\", \"17\", \"18\", \"19\", \"20\", \"21\", \"22\", \"23\", \"24\", \"25\", \"26\", \"27\", \"28\", \"29\", \"30\", \"31\", \"32\", \"33\", \"34\", \"35\", \"36\", \"37\", \"38\", \"39\", \"40\", \"41\", \"42\"], \"mode\": \"markers\", \"name\": \"weighted_accuracy\", \"stepped\": false, \"type\": \"scatter\", \"data\": [0.991700693217896, 0.9928533204209827, 0.9913806412818845, 0.9913889585020129, 0.6784376150331786, 0.690668615731505, 0.9896352145612154, 0.9913889585020129, 0.9924715947006622, 0.9913636435801824, 0.9913889585020129, 0.9923377442331696, 0.9928197194593782, 0.9925673485236726, 0.9917788905569621, 0.9885299635381612, 0.9913889585020129, 0.9913889585020129, 0.9919916041937326, 0.989909736980904, 0.9922890975873886, 0.9913889585020129, 0.9913889585020129, 0.9913889585020129, 0.9862390809822124, 0.9913889585020129, 0.9899129782637323, 0.9886875584882615, 0.9907194852776833, 0.9846449204771723, 0.9913889585020129, 0.9889094087268472, 0.9922089498518627, 0.9913536477419495, 0.9827873062578293, 0.9913889585020129, 0.9919413429053545, 0.9879708197848978, 0.9906425027506349, 0.9744347200264984, 0.9805723731802714, 0.9928346817093345, 0.9928748583442447]}, {\"categories\": [\"0\", \"1\", \"2\", \"3\", \"4\", \"5\", \"6\", \"7\", \"8\", \"9\", \"10\", \"11\", \"12\", \"13\", \"14\", \"15\", \"16\", \"17\", \"18\", \"19\", \"20\", \"21\", \"22\", \"23\", \"24\", \"25\", \"26\", \"27\", \"28\", \"29\", \"30\", \"31\", \"32\", \"33\", \"34\", \"35\", \"36\", \"37\", \"38\", \"39\", \"40\", \"41\", \"42\"], \"mode\": \"lines\", \"name\": \"weighted_accuracy_max\", \"stepped\": true, \"type\": \"scatter\", \"data\": [0.991700693217896, 0.9928533204209827, 0.9928533204209827, 0.9928533204209827, 0.9928533204209827, 0.9928533204209827, 0.9928533204209827, 0.9928533204209827, 0.9928533204209827, 0.9928533204209827, 0.9928533204209827, 0.9928533204209827, 0.9928533204209827, 0.9928533204209827, 0.9928533204209827, 0.9928533204209827, 0.9928533204209827, 0.9928533204209827, 0.9928533204209827, 0.9928533204209827, 0.9928533204209827, 0.9928533204209827, 0.9928533204209827, 0.9928533204209827, 0.9928533204209827, 0.9928533204209827, 0.9928533204209827, 0.9928533204209827, 0.9928533204209827, 0.9928533204209827, 0.9928533204209827, 0.9928533204209827, 0.9928533204209827, 0.9928533204209827, 0.9928533204209827, 0.9928533204209827, 0.9928533204209827, 0.9928533204209827, 0.9928533204209827, 0.9928533204209827, 0.9928533204209827, 0.9928533204209827, 0.9928748583442447]}], \"precision_score_micro\": [{\"categories\": [\"0\", \"1\", \"2\", \"3\", \"4\", \"5\", \"6\", \"7\", \"8\", \"9\", \"10\", \"11\", \"12\", \"13\", \"14\", \"15\", \"16\", \"17\", \"18\", \"19\", \"20\", \"21\", \"22\", \"23\", \"24\", \"25\", \"26\", \"27\", \"28\", \"29\", \"30\", \"31\", \"32\", \"33\", \"34\", \"35\", \"36\", \"37\", \"38\", \"39\", \"40\", \"41\", \"42\"], \"mode\": \"markers\", \"name\": \"precision_score_micro\", \"stepped\": false, \"type\": \"scatter\", \"data\": [0.9409061438613744, 0.938783272932666, 0.9161619515949575, 0.9148046975098193, 0.690053612923306, 0.6975015279086575, 0.9272986508313694, 0.9148046975098193, 0.933319377091733, 0.9409757635621692, 0.9148046975098193, 0.9384352773895379, 0.9367647861312468, 0.9406973634937547, 0.9295259603960504, 0.9229832105383938, 0.9148046975098193, 0.9148046975098193, 0.9350247296808438, 0.9235400470143444, 0.9318577146532239, 0.9148046975098193, 0.9148046975098193, 0.9148046975098193, 0.9355814813655103, 0.9148046975098193, 0.934050181056646, 0.9215911193485171, 0.9403492952723832, 0.9360686557450244, 0.9148046975098193, 0.9393400730694947, 0.9351290895820522, 0.9405233354395893, 0.9349549949061636, 0.9148046975098193, 0.9385744501694038, 0.9388529108030212, 0.9348506471179958, 0.9227047801873779, 0.9316488797769213, 0.9419850463302606, 0.9417066280922851]}, {\"categories\": [\"0\", \"1\", \"2\", \"3\", \"4\", \"5\", \"6\", \"7\", \"8\", \"9\", \"10\", \"11\", \"12\", \"13\", \"14\", \"15\", \"16\", \"17\", \"18\", \"19\", \"20\", \"21\", \"22\", \"23\", \"24\", \"25\", \"26\", \"27\", \"28\", \"29\", \"30\", \"31\", \"32\", \"33\", \"34\", \"35\", \"36\", \"37\", \"38\", \"39\", \"40\", \"41\", \"42\"], \"mode\": \"lines\", \"name\": \"precision_score_micro_max\", \"stepped\": true, \"type\": \"scatter\", \"data\": [0.9409061438613744, 0.9409061438613744, 0.9409061438613744, 0.9409061438613744, 0.9409061438613744, 0.9409061438613744, 0.9409061438613744, 0.9409061438613744, 0.9409061438613744, 0.9409757635621692, 0.9409757635621692, 0.9409757635621692, 0.9409757635621692, 0.9409757635621692, 0.9409757635621692, 0.9409757635621692, 0.9409757635621692, 0.9409757635621692, 0.9409757635621692, 0.9409757635621692, 0.9409757635621692, 0.9409757635621692, 0.9409757635621692, 0.9409757635621692, 0.9409757635621692, 0.9409757635621692, 0.9409757635621692, 0.9409757635621692, 0.9409757635621692, 0.9409757635621692, 0.9409757635621692, 0.9409757635621692, 0.9409757635621692, 0.9409757635621692, 0.9409757635621692, 0.9409757635621692, 0.9409757635621692, 0.9409757635621692, 0.9409757635621692, 0.9409757635621692, 0.9409757635621692, 0.9419850463302606, 0.9419850463302606]}], \"AUC_weighted\": [{\"categories\": [\"0\", \"1\", \"2\", \"3\", \"4\", \"5\", \"6\", \"7\", \"8\", \"9\", \"10\", \"11\", \"12\", \"13\", \"14\", \"15\", \"16\", \"17\", \"18\", \"19\", \"20\", \"21\", \"22\", \"23\", \"24\", \"25\", \"26\", \"27\", \"28\", \"29\", \"30\", \"31\", \"32\", \"33\", \"34\", \"35\", \"36\", \"37\", \"38\", \"39\", \"40\", \"41\", \"42\"], \"mode\": \"markers\", \"name\": \"AUC_weighted\", \"stepped\": false, \"type\": \"scatter\", \"data\": [0.8984647802368209, 0.8939714830401101, 0.8357336109825624, 0.782618707086593, 0.8174120044498034, 0.8029339798209655, 0.869297995503205, 0.7944500052155752, 0.880798746434284, 0.8971823987804897, 0.7870270232379802, 0.892376062505454, 0.8895139170684171, 0.8938111041541126, 0.873690510355587, 0.8478466789433421, 0.7777717347406053, 0.8085982181465973, 0.8806192653432608, 0.8583882450554523, 0.868522460596003, 0.782713011476819, 0.7852236286620693, 0.7892880062901317, 0.8840226136184572, 0.5, 0.8689884882450496, 0.8643511987412135, 0.8946903094412457, 0.887678320689621, 0.5, 0.8928631301850999, 0.8765191386796264, 0.8934427745474002, 0.885593072406712, 0.5, 0.8907766226172201, 0.893319158537364, 0.8718151026993594, 0.848668524959737, 0.8777931441142719, 0.8983718587306664, 0.8984110137142499]}, {\"categories\": [\"0\", \"1\", \"2\", \"3\", \"4\", \"5\", \"6\", \"7\", \"8\", \"9\", \"10\", \"11\", \"12\", \"13\", \"14\", \"15\", \"16\", \"17\", \"18\", \"19\", \"20\", \"21\", \"22\", \"23\", \"24\", \"25\", \"26\", \"27\", \"28\", \"29\", \"30\", \"31\", \"32\", \"33\", \"34\", \"35\", \"36\", \"37\", \"38\", \"39\", \"40\", \"41\", \"42\"], \"mode\": \"lines\", \"name\": \"AUC_weighted_max\", \"stepped\": true, \"type\": \"scatter\", \"data\": [0.8984647802368209, 0.8984647802368209, 0.8984647802368209, 0.8984647802368209, 0.8984647802368209, 0.8984647802368209, 0.8984647802368209, 0.8984647802368209, 0.8984647802368209, 0.8984647802368209, 0.8984647802368209, 0.8984647802368209, 0.8984647802368209, 0.8984647802368209, 0.8984647802368209, 0.8984647802368209, 0.8984647802368209, 0.8984647802368209, 0.8984647802368209, 0.8984647802368209, 0.8984647802368209, 0.8984647802368209, 0.8984647802368209, 0.8984647802368209, 0.8984647802368209, 0.8984647802368209, 0.8984647802368209, 0.8984647802368209, 0.8984647802368209, 0.8984647802368209, 0.8984647802368209, 0.8984647802368209, 0.8984647802368209, 0.8984647802368209, 0.8984647802368209, 0.8984647802368209, 0.8984647802368209, 0.8984647802368209, 0.8984647802368209, 0.8984647802368209, 0.8984647802368209, 0.8984647802368209, 0.8984647802368209]}], \"recall_score_weighted\": [{\"categories\": [\"0\", \"1\", \"2\", \"3\", \"4\", \"5\", \"6\", \"7\", \"8\", \"9\", \"10\", \"11\", \"12\", \"13\", \"14\", \"15\", \"16\", \"17\", \"18\", \"19\", \"20\", \"21\", \"22\", \"23\", \"24\", \"25\", \"26\", \"27\", \"28\", \"29\", \"30\", \"31\", \"32\", \"33\", \"34\", \"35\", \"36\", \"37\", \"38\", \"39\", \"40\", \"41\", \"42\"], \"mode\": \"markers\", \"name\": \"recall_score_weighted\", \"stepped\": false, \"type\": \"scatter\", \"data\": [0.9409061438613744, 0.938783272932666, 0.9161619515949575, 0.9148046975098193, 0.690053612923306, 0.6975015279086575, 0.9272986508313694, 0.9148046975098193, 0.933319377091733, 0.9409757635621692, 0.9148046975098193, 0.9384352773895379, 0.9367647861312468, 0.9406973634937547, 0.9295259603960504, 0.9229832105383938, 0.9148046975098193, 0.9148046975098193, 0.9350247296808438, 0.9235400470143444, 0.9318577146532239, 0.9148046975098193, 0.9148046975098193, 0.9148046975098193, 0.9355814813655103, 0.9148046975098193, 0.934050181056646, 0.9215911193485171, 0.9403492952723832, 0.9360686557450244, 0.9148046975098193, 0.9393400730694947, 0.9351290895820522, 0.9405233354395893, 0.9349549949061636, 0.9148046975098193, 0.9385744501694038, 0.9388529108030212, 0.9348506471179958, 0.9227047801873779, 0.9316488797769213, 0.9419850463302606, 0.9417066280922851]}, {\"categories\": [\"0\", \"1\", \"2\", \"3\", \"4\", \"5\", \"6\", \"7\", \"8\", \"9\", \"10\", \"11\", \"12\", \"13\", \"14\", \"15\", \"16\", \"17\", \"18\", \"19\", \"20\", \"21\", \"22\", \"23\", \"24\", \"25\", \"26\", \"27\", \"28\", \"29\", \"30\", \"31\", \"32\", \"33\", \"34\", \"35\", \"36\", \"37\", \"38\", \"39\", \"40\", \"41\", \"42\"], \"mode\": \"lines\", \"name\": \"recall_score_weighted_max\", \"stepped\": true, \"type\": \"scatter\", \"data\": [0.9409061438613744, 0.9409061438613744, 0.9409061438613744, 0.9409061438613744, 0.9409061438613744, 0.9409061438613744, 0.9409061438613744, 0.9409061438613744, 0.9409061438613744, 0.9409757635621692, 0.9409757635621692, 0.9409757635621692, 0.9409757635621692, 0.9409757635621692, 0.9409757635621692, 0.9409757635621692, 0.9409757635621692, 0.9409757635621692, 0.9409757635621692, 0.9409757635621692, 0.9409757635621692, 0.9409757635621692, 0.9409757635621692, 0.9409757635621692, 0.9409757635621692, 0.9409757635621692, 0.9409757635621692, 0.9409757635621692, 0.9409757635621692, 0.9409757635621692, 0.9409757635621692, 0.9409757635621692, 0.9409757635621692, 0.9409757635621692, 0.9409757635621692, 0.9409757635621692, 0.9409757635621692, 0.9409757635621692, 0.9409757635621692, 0.9409757635621692, 0.9409757635621692, 0.9419850463302606, 0.9419850463302606]}], \"precision_score_macro\": [{\"categories\": [\"0\", \"1\", \"2\", \"3\", \"4\", \"5\", \"6\", \"7\", \"8\", \"9\", \"10\", \"11\", \"12\", \"13\", \"14\", \"15\", \"16\", \"17\", \"18\", \"19\", \"20\", \"21\", \"22\", \"23\", \"24\", \"25\", \"26\", \"27\", \"28\", \"29\", \"30\", \"31\", \"32\", \"33\", \"34\", \"35\", \"36\", \"37\", \"38\", \"39\", \"40\", \"41\", \"42\"], \"mode\": \"markers\", \"name\": \"precision_score_macro\", \"stepped\": false, \"type\": \"scatter\", \"data\": [0.932519877526965, 0.9501377123010691, 0.7339219616198317, 0.45740234875490965, 0.5849816272206249, 0.5802940165789291, 0.8836364174073529, 0.45740234875490965, 0.9463577344710016, 0.9281095170486026, 0.45740234875490965, 0.9415294087435188, 0.950929177742562, 0.9451389074324835, 0.9325383279071197, 0.8439216128391642, 0.45740234875490965, 0.45740234875490965, 0.9354760657447112, 0.8744057304018387, 0.943152129360653, 0.45740234875490965, 0.45740234875490965, 0.45740234875490965, 0.866813739175166, 0.45740234875490965, 0.9023381489395172, 0.8394753279416147, 0.9198188375257251, 0.8567121589718771, 0.45740234875490965, 0.8983762632217781, 0.9402894902327095, 0.9277058888813043, 0.842326157906823, 0.45740234875490965, 0.9352360445989462, 0.8887591155837617, 0.9133711231710031, 0.763981307460556, 0.8204289009662338, 0.9487768127882641, 0.9495062049345318]}, {\"categories\": [\"0\", \"1\", \"2\", \"3\", \"4\", \"5\", \"6\", \"7\", \"8\", \"9\", \"10\", \"11\", \"12\", \"13\", \"14\", \"15\", \"16\", \"17\", \"18\", \"19\", \"20\", \"21\", \"22\", \"23\", \"24\", \"25\", \"26\", \"27\", \"28\", \"29\", \"30\", \"31\", \"32\", \"33\", \"34\", \"35\", \"36\", \"37\", \"38\", \"39\", \"40\", \"41\", \"42\"], \"mode\": \"lines\", \"name\": \"precision_score_macro_max\", \"stepped\": true, \"type\": \"scatter\", \"data\": [0.932519877526965, 0.9501377123010691, 0.9501377123010691, 0.9501377123010691, 0.9501377123010691, 0.9501377123010691, 0.9501377123010691, 0.9501377123010691, 0.9501377123010691, 0.9501377123010691, 0.9501377123010691, 0.9501377123010691, 0.950929177742562, 0.950929177742562, 0.950929177742562, 0.950929177742562, 0.950929177742562, 0.950929177742562, 0.950929177742562, 0.950929177742562, 0.950929177742562, 0.950929177742562, 0.950929177742562, 0.950929177742562, 0.950929177742562, 0.950929177742562, 0.950929177742562, 0.950929177742562, 0.950929177742562, 0.950929177742562, 0.950929177742562, 0.950929177742562, 0.950929177742562, 0.950929177742562, 0.950929177742562, 0.950929177742562, 0.950929177742562, 0.950929177742562, 0.950929177742562, 0.950929177742562, 0.950929177742562, 0.950929177742562, 0.950929177742562]}]}, \"metricName\": null, \"primaryMetricName\": \"accuracy\", \"showLegend\": false}, \"run_metrics\": [{\"name\": \"precision_score_micro\", \"run_id\": \"AutoML_91b7d0bd-1b7d-457b-8320-bf768ab34270\", \"categories\": [0], \"series\": [{\"data\": [0.9419850463302606]}]}, {\"name\": \"f1_score_weighted\", \"run_id\": \"AutoML_91b7d0bd-1b7d-457b-8320-bf768ab34270\", \"categories\": [0], \"series\": [{\"data\": [0.928863157899077]}]}, {\"name\": \"f1_score_micro\", \"run_id\": \"AutoML_91b7d0bd-1b7d-457b-8320-bf768ab34270\", \"categories\": [0], \"series\": [{\"data\": [0.9419850463302606]}]}, {\"name\": \"AUC_weighted\", \"run_id\": \"AutoML_91b7d0bd-1b7d-457b-8320-bf768ab34270\", \"categories\": [0], \"series\": [{\"data\": [0.8983718587306664]}]}, {\"name\": \"precision_score_weighted\", \"run_id\": \"AutoML_91b7d0bd-1b7d-457b-8320-bf768ab34270\", \"categories\": [0], \"series\": [{\"data\": [0.942806221166815]}]}, {\"name\": \"balanced_accuracy\", \"run_id\": \"AutoML_91b7d0bd-1b7d-457b-8320-bf768ab34270\", \"categories\": [0], \"series\": [{\"data\": [0.6666659978085006]}]}, {\"name\": \"AUC_micro\", \"run_id\": \"AutoML_91b7d0bd-1b7d-457b-8320-bf768ab34270\", \"categories\": [0], \"series\": [{\"data\": [0.9800222531176882]}]}, {\"name\": \"weighted_accuracy\", \"run_id\": \"AutoML_91b7d0bd-1b7d-457b-8320-bf768ab34270\", \"categories\": [0], \"series\": [{\"data\": [0.9928346817093345]}]}, {\"name\": \"recall_score_weighted\", \"run_id\": \"AutoML_91b7d0bd-1b7d-457b-8320-bf768ab34270\", \"categories\": [0], \"series\": [{\"data\": [0.9419850463302606]}]}, {\"name\": \"matthews_correlation\", \"run_id\": \"AutoML_91b7d0bd-1b7d-457b-8320-bf768ab34270\", \"categories\": [0], \"series\": [{\"data\": [0.5468514171292107]}]}, {\"name\": \"average_precision_score_micro\", \"run_id\": \"AutoML_91b7d0bd-1b7d-457b-8320-bf768ab34270\", \"categories\": [0], \"series\": [{\"data\": [0.9807199558955922]}]}, {\"name\": \"accuracy\", \"run_id\": \"AutoML_91b7d0bd-1b7d-457b-8320-bf768ab34270\", \"categories\": [0], \"series\": [{\"data\": [0.9419850463302606]}]}, {\"name\": \"AUC_macro\", \"run_id\": \"AutoML_91b7d0bd-1b7d-457b-8320-bf768ab34270\", \"categories\": [0], \"series\": [{\"data\": [0.8983718587306664]}]}, {\"name\": \"precision_score_macro\", \"run_id\": \"AutoML_91b7d0bd-1b7d-457b-8320-bf768ab34270\", \"categories\": [0], \"series\": [{\"data\": [0.9487768127882641]}]}, {\"name\": \"f1_score_macro\", \"run_id\": \"AutoML_91b7d0bd-1b7d-457b-8320-bf768ab34270\", \"categories\": [0], \"series\": [{\"data\": [0.7324620310512515]}]}, {\"name\": \"norm_macro_recall\", \"run_id\": \"AutoML_91b7d0bd-1b7d-457b-8320-bf768ab34270\", \"categories\": [0], \"series\": [{\"data\": [0.33333199561700105]}]}, {\"name\": \"recall_score_micro\", \"run_id\": \"AutoML_91b7d0bd-1b7d-457b-8320-bf768ab34270\", \"categories\": [0], \"series\": [{\"data\": [0.9419850463302606]}]}, {\"name\": \"recall_score_macro\", \"run_id\": \"AutoML_91b7d0bd-1b7d-457b-8320-bf768ab34270\", \"categories\": [0], \"series\": [{\"data\": [0.6666659978085006]}]}, {\"name\": \"average_precision_score_weighted\", \"run_id\": \"AutoML_91b7d0bd-1b7d-457b-8320-bf768ab34270\", \"categories\": [0], \"series\": [{\"data\": [0.9550492483732598]}]}, {\"name\": \"log_loss\", \"run_id\": \"AutoML_91b7d0bd-1b7d-457b-8320-bf768ab34270\", \"categories\": [0], \"series\": [{\"data\": [0.17254654798093447]}]}, {\"name\": \"average_precision_score_macro\", \"run_id\": \"AutoML_91b7d0bd-1b7d-457b-8320-bf768ab34270\", \"categories\": [0], \"series\": [{\"data\": [0.7869420402055544]}]}], \"run_logs\": \"\\nRun is completed.\", \"graph\": {}, \"widget_settings\": {\"childWidgetDisplay\": \"popup\", \"send_telemetry\": false, \"log_level\": \"INFO\", \"sdk_version\": \"1.20.0\"}, \"loading\": false}"
     },
     "metadata": {},
     "output_type": "display_data"
    }
   ],
   "source": [
    "RunDetails(remote_run).show()"
   ]
  },
  {
   "cell_type": "code",
   "execution_count": 25,
   "metadata": {
    "collapsed": true,
    "gather": {
     "logged": 1612779786667
    },
    "jupyter": {
     "outputs_hidden": false,
     "source_hidden": false
    },
    "nteract": {
     "transient": {
      "deleting": false
     }
    }
   },
   "outputs": [],
   "source": [
    "best_automl_run, fitted_automl_model = remote_run.get_output()"
   ]
  },
  {
   "cell_type": "code",
   "execution_count": 26,
   "metadata": {
    "collapsed": true,
    "gather": {
     "logged": 1612779787196
    },
    "jupyter": {
     "outputs_hidden": false,
     "source_hidden": false
    },
    "nteract": {
     "transient": {
      "deleting": false
     }
    }
   },
   "outputs": [
    {
     "name": "stdout",
     "output_type": "stream",
     "text": [
      "Pipeline(memory=None,\n",
      "         steps=[('datatransformer',\n",
      "                 DataTransformer(enable_dnn=None, enable_feature_sweeping=None,\n",
      "                                 feature_sweeping_config=None,\n",
      "                                 feature_sweeping_timeout=None,\n",
      "                                 featurization_config=None, force_text_dnn=None,\n",
      "                                 is_cross_validation=None,\n",
      "                                 is_onnx_compatible=None, logger=None,\n",
      "                                 observer=None, task=None, working_dir=None)),\n",
      "                ('prefittedsoftvotingclassifier',...\n",
      "                                                                                               tree_method='hist',\n",
      "                                                                                               verbose=-10,\n",
      "                                                                                               verbosity=0))],\n",
      "                                                                     verbose=False))],\n",
      "                                               flatten_transform=None,\n",
      "                                               weights=[0.14285714285714285,\n",
      "                                                        0.07142857142857142,\n",
      "                                                        0.07142857142857142,\n",
      "                                                        0.14285714285714285,\n",
      "                                                        0.07142857142857142,\n",
      "                                                        0.07142857142857142,\n",
      "                                                        0.07142857142857142,\n",
      "                                                        0.07142857142857142,\n",
      "                                                        0.07142857142857142,\n",
      "                                                        0.07142857142857142,\n",
      "                                                        0.07142857142857142,\n",
      "                                                        0.07142857142857142]))],\n",
      "         verbose=False)\n"
     ]
    }
   ],
   "source": [
    "print(fitted_automl_model)"
   ]
  },
  {
   "cell_type": "markdown",
   "metadata": {},
   "source": [
    "## Best Model\n",
    "\n",
    "TODO: In the cell below, get the best model from the automl experiments and display all the properties of the model.\n",
    "\n"
   ]
  },
  {
   "cell_type": "code",
   "execution_count": null,
   "metadata": {
    "gather": {
     "logged": 1598431425670
    },
    "jupyter": {
     "outputs_hidden": false,
     "source_hidden": false
    },
    "nteract": {
     "transient": {
      "deleting": false
     }
    }
   },
   "outputs": [],
   "source": []
  },
  {
   "cell_type": "code",
   "execution_count": 27,
   "metadata": {
    "gather": {
     "logged": 1612779788265
    },
    "jupyter": {
     "outputs_hidden": false,
     "source_hidden": false
    },
    "nteract": {
     "transient": {
      "deleting": false
     }
    }
   },
   "outputs": [
    {
     "name": "stdout",
     "output_type": "stream",
     "text": [
      "Run(Experiment: capstone,\n",
      "Id: AutoML_91b7d0bd-1b7d-457b-8320-bf768ab34270_41,\n",
      "Type: None,\n",
      "Status: Completed)\n"
     ]
    }
   ],
   "source": [
    "#TODO: Save the best model\n",
    "best_model,fitted = remote_run.get_output()\n",
    "print(best_model)\n"
   ]
  },
  {
   "cell_type": "code",
   "execution_count": 28,
   "metadata": {
    "collapsed": true,
    "gather": {
     "logged": 1612779788529
    },
    "jupyter": {
     "outputs_hidden": false,
     "source_hidden": false
    },
    "nteract": {
     "transient": {
      "deleting": false
     }
    }
   },
   "outputs": [
    {
     "name": "stdout",
     "output_type": "stream",
     "text": [
      "Pipeline(memory=None,\n",
      "         steps=[('datatransformer',\n",
      "                 DataTransformer(enable_dnn=None, enable_feature_sweeping=None,\n",
      "                                 feature_sweeping_config=None,\n",
      "                                 feature_sweeping_timeout=None,\n",
      "                                 featurization_config=None, force_text_dnn=None,\n",
      "                                 is_cross_validation=None,\n",
      "                                 is_onnx_compatible=None, logger=None,\n",
      "                                 observer=None, task=None, working_dir=None)),\n",
      "                ('prefittedsoftvotingclassifier',...\n",
      "                                                                                               tree_method='hist',\n",
      "                                                                                               verbose=-10,\n",
      "                                                                                               verbosity=0))],\n",
      "                                                                     verbose=False))],\n",
      "                                               flatten_transform=None,\n",
      "                                               weights=[0.14285714285714285,\n",
      "                                                        0.07142857142857142,\n",
      "                                                        0.07142857142857142,\n",
      "                                                        0.14285714285714285,\n",
      "                                                        0.07142857142857142,\n",
      "                                                        0.07142857142857142,\n",
      "                                                        0.07142857142857142,\n",
      "                                                        0.07142857142857142,\n",
      "                                                        0.07142857142857142,\n",
      "                                                        0.07142857142857142,\n",
      "                                                        0.07142857142857142,\n",
      "                                                        0.07142857142857142]))],\n",
      "         verbose=False)\n"
     ]
    }
   ],
   "source": [
    "print(fitted)"
   ]
  },
  {
   "cell_type": "code",
   "execution_count": 29,
   "metadata": {
    "collapsed": true,
    "gather": {
     "logged": 1612779788816
    },
    "jupyter": {
     "outputs_hidden": false,
     "source_hidden": false
    },
    "nteract": {
     "transient": {
      "deleting": false
     }
    }
   },
   "outputs": [
    {
     "data": {
      "text/html": [
       "['best_automl_model.joblib']"
      ],
      "text/plain": [
       "['best_automl_model.joblib']"
      ]
     },
     "execution_count": 29,
     "metadata": {},
     "output_type": "execute_result"
    }
   ],
   "source": [
    "filename = 'best_automl_model.joblib'\n",
    "# pickle.dump(fitted, open(filename, 'wb'))\n",
    "\n",
    "joblib.dump(fitted,filename)"
   ]
  },
  {
   "cell_type": "markdown",
   "metadata": {},
   "source": [
    "## Model Deployment\n",
    "\n",
    "Remember you have to deploy only one of the two models you trained.. Perform the steps in the rest of this notebook only if you wish to deploy this model.\n",
    "\n",
    "TODO: In the cell below, register the model, create an inference config and deploy the model as a web service."
   ]
  },
  {
   "cell_type": "code",
   "execution_count": 30,
   "metadata": {
    "gather": {
     "logged": 1612779789429
    },
    "jupyter": {
     "outputs_hidden": false,
     "source_hidden": false
    },
    "nteract": {
     "transient": {
      "deleting": false
     }
    }
   },
   "outputs": [
    {
     "name": "stdout",
     "output_type": "stream",
     "text": [
      "Registering model BestModel\n"
     ]
    }
   ],
   "source": [
    "model = Model.register(\n",
    "    workspace=ws,\n",
    "    model_path=\"./best_automl_model.joblib\",\n",
    "    model_name=\"BestModel\",\n",
    "    description=\"Employee Promotion status prediction Model\"\n",
    ")"
   ]
  },
  {
   "cell_type": "markdown",
   "metadata": {
    "collapsed": true,
    "gather": {
     "logged": 1598431657736
    },
    "jupyter": {
     "outputs_hidden": false,
     "source_hidden": false
    },
    "nteract": {
     "transient": {
      "deleting": false
     }
    }
   },
   "source": [
    "TODO: In the cell below, send a request to the web service you deployed to test it."
   ]
  },
  {
   "cell_type": "code",
   "execution_count": 31,
   "metadata": {
    "gather": {
     "logged": 1612779790418
    },
    "jupyter": {
     "outputs_hidden": false,
     "source_hidden": false
    },
    "nteract": {
     "transient": {
      "deleting": false
     }
    }
   },
   "outputs": [],
   "source": [
    "#Create inference config\n",
    "from azureml.core.environment import Environment\n",
    "from azureml.core.model import InferenceConfig\n",
    "\n",
    "env = Environment.get(workspace=ws,name='AzureML-AutoML')\n",
    "\n",
    "inferencefinal = InferenceConfig(entry_script='score.py',environment=env) \n",
    "\n",
    "#Deploy model and check service state\n",
    "from azureml.core.webservice import LocalWebservice, AciWebservice\n",
    "\n",
    "\n",
    "deployfinal = AciWebservice.deploy_configuration()\n"
   ]
  },
  {
   "cell_type": "markdown",
   "metadata": {
    "collapsed": true,
    "gather": {
     "logged": 1598432765711
    },
    "jupyter": {
     "outputs_hidden": false,
     "source_hidden": false
    },
    "nteract": {
     "transient": {
      "deleting": false
     }
    }
   },
   "source": [
    "TODO: In the cell below, print the logs of the web service and delete the service"
   ]
  },
  {
   "cell_type": "code",
   "execution_count": 32,
   "metadata": {
    "gather": {
     "logged": 1612780044932
    },
    "jupyter": {
     "outputs_hidden": false,
     "source_hidden": false
    },
    "nteract": {
     "transient": {
      "deleting": false
     }
    }
   },
   "outputs": [
    {
     "name": "stdout",
     "output_type": "stream",
     "text": [
      "Tips: You can try get_logs(): https://aka.ms/debugimage#dockerlog or local deployment: https://aka.ms/debugimage#debug-locally to debug if deployment takes longer than 10 minutes.\n",
      "Running.................................................\n",
      "Succeeded\n",
      "ACI service creation operation finished, operation \"Succeeded\"\n"
     ]
    }
   ],
   "source": [
    "svcs = Model.deploy(workspace=ws,name='deploy',models=[model],inference_config=inferencefinal,deployment_config=deployfinal)\n",
    "svcs.wait_for_deployment(show_output=True)"
   ]
  },
  {
   "cell_type": "code",
   "execution_count": 33,
   "metadata": {
    "collapsed": true,
    "gather": {
     "logged": 1612780045190
    },
    "jupyter": {
     "outputs_hidden": false,
     "source_hidden": false
    },
    "nteract": {
     "transient": {
      "deleting": false
     }
    }
   },
   "outputs": [
    {
     "name": "stdout",
     "output_type": "stream",
     "text": [
      "Healthy\n"
     ]
    }
   ],
   "source": [
    "print(svcs.state)\n"
   ]
  },
  {
   "cell_type": "code",
   "execution_count": 34,
   "metadata": {
    "collapsed": true,
    "gather": {
     "logged": 1612780045450
    },
    "jupyter": {
     "outputs_hidden": false,
     "source_hidden": false
    },
    "nteract": {
     "transient": {
      "deleting": false
     }
    }
   },
   "outputs": [
    {
     "name": "stdout",
     "output_type": "stream",
     "text": [
      "http://b26582e9-cb54-436d-b5a0-ed7cde6f5c28.southcentralus.azurecontainer.io/score\n"
     ]
    }
   ],
   "source": [
    "\n",
    "print(svcs.scoring_uri)"
   ]
  },
  {
   "cell_type": "markdown",
   "metadata": {
    "nteract": {
     "transient": {
      "deleting": false
     }
    }
   },
   "source": [
    "Extracting a sample data from the train data to test the deployed model"
   ]
  },
  {
   "cell_type": "code",
   "execution_count": 35,
   "metadata": {
    "collapsed": true,
    "gather": {
     "logged": 1612780045720
    },
    "jupyter": {
     "outputs_hidden": false,
     "source_hidden": false
    },
    "nteract": {
     "transient": {
      "deleting": false
     }
    }
   },
   "outputs": [
    {
     "data": {
      "text/plain": [
       "{'Trainings_Attended': 2.0,\n",
       " 'Targets_met': 0.0,\n",
       " 'Previous_Award': 0.0,\n",
       " 'Training_score_average': 53.0,\n",
       " 'age_recruitment': 4.0,\n",
       " 'Gender_Male': 0.0,\n",
       " 'Division_Commercial Sales and Marketing': 0.0,\n",
       " 'Division_Customer Support and Field Operations': 1.0,\n",
       " 'Division_Information Technology and Solution Support': 0.0,\n",
       " 'Division_Information and Strategy': 0.0,\n",
       " 'Division_People/HR Management': 0.0,\n",
       " 'Division_Regulatory and Legal services': 0.0,\n",
       " 'Division_Research and Innovation': 0.0,\n",
       " 'Division_Sourcing and Purchasing': 0.0,\n",
       " 'State_Of_Origin_North_East': 0.0,\n",
       " 'State_Of_Origin_North_West': 0.0,\n",
       " 'State_Of_Origin_South_East': 0.0,\n",
       " 'State_Of_Origin_South_South': 0.0,\n",
       " 'State_Of_Origin_South_West': 1.0,\n",
       " 'Qualification_Yes': 1.0,\n",
       " 'Channel_of_Recruitment_Direct Internal process': 1.0,\n",
       " 'Channel_of_Recruitment_Referral and Special candidates': 0.0,\n",
       " 'Last_performance_score_2.5': 0.0,\n",
       " 'Last_performance_score_5.0': 0.0,\n",
       " 'Last_performance_score_7.5': 1.0,\n",
       " 'Last_performance_score_10.0': 0.0,\n",
       " 'Last_performance_score_12.5': 0.0,\n",
       " 'Foreign_schooled_True': 1.0,\n",
       " 'Marital_Status_Not_Sure': 0.0,\n",
       " 'Marital_Status_Single': 1.0,\n",
       " 'Past_Disciplinary_Action_True': 0.0,\n",
       " 'Previous_IntraDepartmental_Movement_True': 0.0,\n",
       " 'No_of_previous_employers_1': 0.0,\n",
       " 'No_of_previous_employers_2': 0.0,\n",
       " 'No_of_previous_employers_3': 0.0,\n",
       " 'No_of_previous_employers_4': 0.0,\n",
       " 'No_of_previous_employers_5': 0.0,\n",
       " 'No_of_previous_employers_More than 5': 0.0}"
      ]
     },
     "execution_count": 35,
     "metadata": {},
     "output_type": "execute_result"
    }
   ],
   "source": [
    "x_test.iloc[0].to_dict()"
   ]
  },
  {
   "cell_type": "code",
   "execution_count": null,
   "metadata": {
    "collapsed": true,
    "jupyter": {
     "outputs_hidden": false,
     "source_hidden": false
    },
    "nteract": {
     "transient": {
      "deleting": false
     }
    }
   },
   "outputs": [],
   "source": []
  },
  {
   "cell_type": "code",
   "execution_count": 45,
   "metadata": {
    "collapsed": true,
    "gather": {
     "logged": 1612781249594
    },
    "jupyter": {
     "outputs_hidden": false,
     "source_hidden": false
    },
    "nteract": {
     "transient": {
      "deleting": false
     }
    }
   },
   "outputs": [
    {
     "name": "stdout",
     "output_type": "stream",
     "text": [
      "prediction: [1]\n"
     ]
    }
   ],
   "source": [
    "import requests\n",
    "import json\n",
    "\n",
    "# URL for the web service\n",
    "scoring_uri = 'http://b26582e9-cb54-436d-b5a0-ed7cde6f5c28.southcentralus.azurecontainer.io/score'\n",
    "\n",
    "\n",
    "data = {'data':[ {'Trainings_Attended': 2.0,\n",
    " 'Targets_met': 0.0,\n",
    " 'Previous_Award': 0.0,\n",
    " 'Training_score_average': 53.0,\n",
    " 'age_recruitment': 4.0,\n",
    " 'Gender_Male': 0.0,\n",
    " 'Division_Commercial Sales and Marketing': 0.0,\n",
    " 'Division_Customer Support and Field Operations': 1.0,\n",
    " 'Division_Information Technology and Solution Support': 0.0,\n",
    " 'Division_Information and Strategy': 0.0,\n",
    " 'Division_People/HR Management': 0.0,\n",
    " 'Division_Regulatory and Legal services': 0.0,\n",
    " 'Division_Research and Innovation': 0.0,\n",
    " 'Division_Sourcing and Purchasing': 0.0,\n",
    " 'State_Of_Origin_North_East': 0.0,\n",
    " 'State_Of_Origin_North_West': 0.0,\n",
    " 'State_Of_Origin_South_East': 0.0,\n",
    " 'State_Of_Origin_South_South': 0.0,\n",
    " 'State_Of_Origin_South_West': 1.0,\n",
    " 'Qualification_Yes': 1.0,\n",
    " 'Channel_of_Recruitment_Direct Internal process': 1.0,\n",
    " 'Channel_of_Recruitment_Referral and Special candidates': 0.0,\n",
    " 'Last_performance_score_2.5': 0.0,\n",
    " 'Last_performance_score_5.0': 0.0,\n",
    " 'Last_performance_score_7.5': 1.0,\n",
    " 'Last_performance_score_10.0': 0.0,\n",
    " 'Last_performance_score_12.5': 0.0,\n",
    " 'Foreign_schooled_True': 1.0,\n",
    " 'Marital_Status_Not_Sure': 0.0,\n",
    " 'Marital_Status_Single': 1.0,\n",
    " 'Past_Disciplinary_Action_True': 0.0,\n",
    " 'Previous_IntraDepartmental_Movement_True': 0.0,\n",
    " 'No_of_previous_employers_1': 0.0,\n",
    " 'No_of_previous_employers_2': 0.0,\n",
    " 'No_of_previous_employers_3': 0.0,\n",
    " 'No_of_previous_employers_4': 0.0,\n",
    " 'No_of_previous_employers_5': 0.0,\n",
    " 'No_of_previous_employers_More than 5': 0.0}\n",
    "]\n",
    "        }\n",
    "\n",
    "input_data = json.dumps(data)\n",
    "\n",
    "headers = {'Content-Type': 'application/json'}\n",
    "# # Make the request and display the response\n",
    "result = requests.post(scoring_uri,input_data,headers=headers)\n",
    "print(\"prediction:\",result.text)\n",
    "\n"
   ]
  },
  {
   "cell_type": "code",
   "execution_count": 41,
   "metadata": {
    "collapsed": true,
    "gather": {
     "logged": 1612780662821
    },
    "jupyter": {
     "outputs_hidden": false,
     "source_hidden": false
    },
    "nteract": {
     "transient": {
      "deleting": false
     }
    }
   },
   "outputs": [],
   "source": [
    "env.save_to_directory('./training2',overwrite=False)"
   ]
  },
  {
   "cell_type": "code",
   "execution_count": 40,
   "metadata": {
    "collapsed": true,
    "gather": {
     "logged": 1612780641714
    },
    "jupyter": {
     "outputs_hidden": false,
     "source_hidden": false
    },
    "nteract": {
     "transient": {
      "deleting": false
     }
    }
   },
   "outputs": [
    {
     "name": "stdout",
     "output_type": "stream",
     "text": [
      "2021-02-08T10:26:43,787448575+00:00 - gunicorn/run \n",
      "2021-02-08T10:26:43,884206255+00:00 - rsyslog/run \n",
      "2021-02-08T10:26:44,083411255+00:00 - iot-server/run \n",
      "rsyslogd: /azureml-envs/azureml_7ade26eb614f97df8030bc480da59236/lib/libuuid.so.1: no version information available (required by rsyslogd)\n",
      "2021-02-08T10:26:44,184680967+00:00 - nginx/run \n",
      "/usr/sbin/nginx: /azureml-envs/azureml_7ade26eb614f97df8030bc480da59236/lib/libcrypto.so.1.0.0: no version information available (required by /usr/sbin/nginx)\n",
      "/usr/sbin/nginx: /azureml-envs/azureml_7ade26eb614f97df8030bc480da59236/lib/libcrypto.so.1.0.0: no version information available (required by /usr/sbin/nginx)\n",
      "/usr/sbin/nginx: /azureml-envs/azureml_7ade26eb614f97df8030bc480da59236/lib/libssl.so.1.0.0: no version information available (required by /usr/sbin/nginx)\n",
      "/usr/sbin/nginx: /azureml-envs/azureml_7ade26eb614f97df8030bc480da59236/lib/libssl.so.1.0.0: no version information available (required by /usr/sbin/nginx)\n",
      "/usr/sbin/nginx: /azureml-envs/azureml_7ade26eb614f97df8030bc480da59236/lib/libssl.so.1.0.0: no version information available (required by /usr/sbin/nginx)\n",
      "EdgeHubConnectionString and IOTEDGE_IOTHUBHOSTNAME are not set. Exiting...\n",
      "2021-02-08T10:26:46,485725940+00:00 - iot-server/finish 1 0\n",
      "2021-02-08T10:26:46,487326251+00:00 - Exit code 1 is normal. Not restarting iot-server.\n",
      "Starting gunicorn 19.9.0\n",
      "Listening at: http://127.0.0.1:31311 (14)\n",
      "Using worker: sync\n",
      "worker timeout is set to 300\n",
      "Booting worker with pid: 43\n",
      "SPARK_HOME not set. Skipping PySpark Initialization.\n",
      "Generating new fontManager, this may take some time...\n",
      "Initializing logger\n",
      "2021-02-08 10:27:14,195 | root | INFO | Starting up app insights client\n",
      "2021-02-08 10:27:14,283 | root | INFO | Starting up request id generator\n",
      "2021-02-08 10:27:14,283 | root | INFO | Starting up app insight hooks\n",
      "2021-02-08 10:27:14,283 | root | INFO | Invoking user's init function\n",
      "2021-02-08 10:27:14,284 | root | INFO | Users's init has completed successfully\n",
      "2021-02-08 10:27:14,286 | root | INFO | Skipping middleware: dbg_model_info as it's not enabled.\n",
      "2021-02-08 10:27:14,286 | root | INFO | Skipping middleware: dbg_resource_usage as it's not enabled.\n",
      "2021-02-08 10:27:14,287 | root | INFO | Scoring timeout is found from os.environ: 60000 ms\n",
      "2021-02-08 10:27:19,728 | root | INFO | Swagger file not present\n",
      "2021-02-08 10:27:19,728 | root | INFO | 404\n",
      "127.0.0.1 - - [08/Feb/2021:10:27:19 +0000] \"GET /swagger.json HTTP/1.0\" 404 19 \"-\" \"Go-http-client/1.1\"\n",
      "2021-02-08 10:27:24,600 | root | INFO | Swagger file not present\n",
      "2021-02-08 10:27:24,600 | root | INFO | 404\n",
      "127.0.0.1 - - [08/Feb/2021:10:27:24 +0000] \"GET /swagger.json HTTP/1.0\" 404 19 \"-\" \"Go-http-client/1.1\"\n",
      "2021-02-08 10:34:45,876 | root | INFO | Validation Request Content-Type\n",
      "2021-02-08 10:34:45,877 | root | INFO | Scoring Timer is set to 60.0 seconds\n",
      "2021-02-08 10:34:45,877 | root | INFO | 200\n",
      "127.0.0.1 - - [08/Feb/2021:10:34:45 +0000] \"POST /score HTTP/1.0\" 200 29 \"-\" \"python-requests/2.25.1\"\n",
      "2021-02-08 10:35:44,420 | root | INFO | Validation Request Content-Type\n",
      "2021-02-08 10:35:44,421 | root | INFO | Scoring Timer is set to 60.0 seconds\n",
      "2021-02-08 10:35:44,421 | root | INFO | 200\n",
      "127.0.0.1 - - [08/Feb/2021:10:35:44 +0000] \"POST /score HTTP/1.0\" 200 29 \"-\" \"python-requests/2.25.1\"\n",
      "2021-02-08 10:36:41,733 | root | INFO | Validation Request Content-Type\n",
      "2021-02-08 10:36:41,734 | root | INFO | Scoring Timer is set to 60.0 seconds\n",
      "2021-02-08 10:36:41,734 | root | INFO | 200\n",
      "127.0.0.1 - - [08/Feb/2021:10:36:41 +0000] \"POST /score HTTP/1.0\" 200 29 \"-\" \"python-requests/2.25.1\"\n",
      "\n"
     ]
    }
   ],
   "source": [
    "print(svcs.get_logs())"
   ]
  },
  {
   "cell_type": "code",
   "execution_count": 62,
   "metadata": {
    "collapsed": true,
    "gather": {
     "logged": 1612677113563
    },
    "jupyter": {
     "outputs_hidden": false,
     "source_hidden": false
    },
    "nteract": {
     "transient": {
      "deleting": false
     }
    }
   },
   "outputs": [],
   "source": [
    "svcs.delete()"
   ]
  },
  {
   "cell_type": "code",
   "execution_count": null,
   "metadata": {
    "collapsed": true,
    "jupyter": {
     "outputs_hidden": false,
     "source_hidden": false
    },
    "nteract": {
     "transient": {
      "deleting": false
     }
    }
   },
   "outputs": [],
   "source": []
  }
 ],
 "metadata": {
  "kernel_info": {
   "name": "python3"
  },
  "kernelspec": {
   "display_name": "Python 3",
   "language": "python",
   "name": "python3"
  },
  "language_info": {
   "codemirror_mode": {
    "name": "ipython",
    "version": 3
   },
   "file_extension": ".py",
   "mimetype": "text/x-python",
   "name": "python",
   "nbconvert_exporter": "python",
   "pygments_lexer": "ipython3",
   "version": "3.7.6"
  },
  "nteract": {
   "version": "nteract-front-end@1.0.0"
  }
 },
 "nbformat": 4,
 "nbformat_minor": 2
}
